{
 "cells": [
  {
   "cell_type": "markdown",
   "metadata": {},
   "source": [
    "## Capstone Project Proposal\n",
    "\n",
    "### What is the problem you want to solve?\n",
    "\n",
    "As a capstone project I will use a machine learning algorithm, for example a regularized linear regression multi-classifier algorithm, to predict the score of the games from the Italian Serie A, the main soccer league of Italy. Results and data from every game up to the next one will be used to predict the outcome.  The goal is to have predictions that perform better than those of the betting agencies.\n",
    "\n",
    "### Who is your client and why do they care about this problem? In other words, what will your client DO or DECIDE based on your analysis that they wouldn’t have otherwise?\n",
    "\n",
    "My client will be a betting agency. Such agency's survival is based on their ability to determine correctly the odds of the outcome of a soccer game, while at the same time offer odds as high as possible, to entice people's bets. With a classifier that predicts a score better than their current model they would be able to modify their given odds to maximize their income.\n",
    "\n",
    "### What data are you going to use for this? How will you acquire this data?\n",
    "\n",
    "The data I would use come from the Soccer Database at https://www.kaggle.com/hugomathien/soccer on the Kaggle website. This database is actually a collection of data from different sources:\n",
    "1. http://football-data.mx-api.enetscores.com/ : scores, lineup, team formation and events\n",
    "\n",
    "2. http://www.football-data.co.uk/ : betting odds\n",
    "\n",
    "3. http://sofifa.com/ : players and teams attributes from EA Sports FIFA games\n",
    "\n",
    "### In brief, outline your approach to solving this problem (knowing that this might change later).\n",
    "\n",
    "In my first attempt I will pass to the algorithm the following variables: home team, away team, home team lineup (11 players on field with value 1, and players not on field with value 0), away team lineup. In addition I will build several other variables, as: \n",
    "* home and away team condition(s): for last, say 5-6, games\n",
    " * average points\n",
    " * average goals scored\n",
    " * average goals conceded\n",
    "\n",
    "* team potential: given current lineup, for last, say 10-15, games\n",
    " * weighted (on lineup caps) average total goals scored by players in lineup\n",
    " * weighted (on lineup caps) average total goals conceded by players in lineup\n",
    " * (later adding similar meaningful statistics, on corner kicks, or similar)\n",
    "\n",
    "The algorithm will then predict the probability of a game ending in a win/tie/loss. The database contains data from 2008 to 2016 for the Serie A, to train the algorithm I will use data from 2008-2014, then use the 2014-2015 season to cross-validate. Finally I will test the algorithm on every match day from the season 2015-2016. \n",
    "\n",
    "After a first run of the algorithm I will look into what types of variables might be added in order to increase the performance of the model.\n",
    "\n",
    "### What are your deliverables? Typically, this would include code, along with a paper and/or a slide deck.\n",
    "\n",
    "I will produce a Jupyter Notebook with the code, and a pdf file report with a description of the approach, methodology, and conclusions of the project. All these file will be uploaded to a github repository."
   ]
  }
 ],
 "metadata": {
  "kernelspec": {
   "display_name": "Python 3",
   "language": "python",
   "name": "python3"
  },
  "language_info": {
   "codemirror_mode": {
    "name": "ipython",
    "version": 3
   },
   "file_extension": ".py",
   "mimetype": "text/x-python",
   "name": "python",
   "nbconvert_exporter": "python",
   "pygments_lexer": "ipython3",
   "version": "3.6.0"
  }
 },
 "nbformat": 4,
 "nbformat_minor": 2
}
