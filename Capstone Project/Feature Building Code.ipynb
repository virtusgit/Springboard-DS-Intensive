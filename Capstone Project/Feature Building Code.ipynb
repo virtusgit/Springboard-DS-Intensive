{
 "cells": [
  {
   "cell_type": "markdown",
   "metadata": {},
   "source": [
    "## Import packages and functions"
   ]
  },
  {
   "cell_type": "code",
   "execution_count": 1,
   "metadata": {
    "collapsed": true
   },
   "outputs": [],
   "source": [
    "import sqlite3\n",
    "import pandas as pd\n",
    "import numpy as np\n",
    "np.set_printoptions(precision=2)\n",
    "import scipy.stats as stats\n",
    "import matplotlib.pyplot as plt\n",
    "import matplotlib as mpl\n",
    "from mpl_toolkits.mplot3d.axes3d import Axes3D\n",
    "\n",
    "pd.set_option('display.width', 500)\n",
    "pd.set_option('display.max_columns', 100)\n",
    "pd.set_option('display.notebook_repr_html', True)\n",
    "\n",
    "import seaborn as sns\n",
    "# sns.set_style(\"whitegrid\")\n",
    "\n",
    "from cycler import cycler\n",
    "import itertools\n",
    "import time\n",
    "from IPython.display import display\n",
    "\n",
    "import warnings\n",
    "warnings.filterwarnings('ignore')"
   ]
  },
  {
   "cell_type": "code",
   "execution_count": 2,
   "metadata": {
    "collapsed": true
   },
   "outputs": [],
   "source": [
    "from sklearn.model_selection import GridSearchCV, train_test_split\n",
    "from sklearn import preprocessing\n",
    "\n",
    "from sklearn.linear_model import LogisticRegressionCV, LogisticRegression\n",
    "from sklearn.tree import DecisionTreeClassifier\n",
    "from sklearn.ensemble import RandomForestClassifier, AdaBoostClassifier\n",
    "from sklearn.naive_bayes import GaussianNB, MultinomialNB\n",
    "from sklearn.calibration import CalibratedClassifierCV\n",
    "\n",
    "from sklearn.metrics import accuracy_score, log_loss\n",
    "from sklearn.metrics import confusion_matrix\n",
    "\n",
    "from sklearn.decomposition import PCA"
   ]
  },
  {
   "cell_type": "markdown",
   "metadata": {},
   "source": [
    "## Import Data"
   ]
  },
  {
   "cell_type": "code",
   "execution_count": 3,
   "metadata": {
    "collapsed": false
   },
   "outputs": [],
   "source": [
    "# Database file can be downloaded at: https://www.kaggle.com/hugomathien/soccer\n",
    "# Connect to database\n",
    "database = 'database.sqlite'\n",
    "conn = sqlite3.connect(database)\n",
    "\n",
    "#Fetch data tables\n",
    "player_data = pd.read_sql(\"SELECT * FROM Player;\", conn)\n",
    "player_stats_data = pd.read_sql(\"SELECT * FROM Player_Attributes;\", conn)\n",
    "team_data = pd.read_sql(\"SELECT * FROM Team;\", conn)\n",
    "match_data = pd.read_sql(\"SELECT * FROM Match;\", conn)\n",
    "conn.close()"
   ]
  },
  {
   "cell_type": "markdown",
   "metadata": {},
   "source": [
    "## Define functions needed for feature building"
   ]
  },
  {
   "cell_type": "code",
   "execution_count": 4,
   "metadata": {
    "collapsed": false
   },
   "outputs": [],
   "source": [
    "###### VECTORIZED CODE: 8.5 TIMES FASTER ###########\n",
    "def find_previous(index, team, season, stage):\n",
    "    \"\"\"Determine previous match given season, stage, and team name\n",
    "       Returns index and stage number of previous game played by team\n",
    "       If no game is found it returns current index and stage\"\"\"\n",
    "       \n",
    "    tmp_stage = stage\n",
    "    assigned = False\n",
    "    # look for previous match, if needed go back all the way to first game\n",
    "    while (tmp_stage >= 2) & (not assigned):\n",
    "        previous = betdf[(betdf['season']==season) & (betdf['stage']==tmp_stage-1) & ((betdf['home_team_api_id']==team) | (betdf['away_team_api_id']==team))]\n",
    "        if previous.shape[0] == 1:\n",
    "            previous_stage = previous['stage'].item()\n",
    "            previous_index = previous.index[0]\n",
    "            assigned = True\n",
    "        else:\n",
    "            tmp_stage -= 1\n",
    "    \n",
    "    # Check if previous game was found, if not (went back to first game!) use current stage and index\n",
    "    if not assigned:\n",
    "        previous_stage = stage\n",
    "        previous_index = index\n",
    "    return previous_index, previous_stage      \n",
    "\n",
    "    \n",
    "def get_points(index, home, away, season, stage):\n",
    "    \"\"\"Given index, home and away teams, season, and stage, computes (and assigns to betdf) \n",
    "       average points up to previous game for both teams\"\"\"\n",
    "    # Recover index number and stage of previous game\n",
    "    previous_index_h, previous_stage_h = find_previous(index, home, season, stage)\n",
    "    previous_index_a, previous_stage_a = find_previous(index, away, season, stage)\n",
    "\n",
    "    # Assign avg_point for home team when a previous game was found\n",
    "    if previous_stage_h != stage:\n",
    "        # Identify field in previous game\n",
    "        if betdf.loc[previous_index_h,'home_team_api_id'] == home:\n",
    "            previous_field_h = 'home'\n",
    "        else:\n",
    "            previous_field_h = 'away'\n",
    "        mydict = {'home':0, 'away':1}\n",
    "        avg_points_h = ((stage-2)*betdf.loc[previous_index_h,'points_'+previous_field_h] + \\\n",
    "                      points_dict[betdf.loc[previous_index_h,'outcome']][mydict[previous_field_h]])/(stage-1)          \n",
    "    # Assign points for home team when previous game was not found\n",
    "    else:\n",
    "        avg_points_h = 0.0\n",
    "    # Actual assignment to betdf\n",
    "    betdf.loc[index,'points_home'] = avg_points_h\n",
    "    \n",
    "    # Assign avg_point for away team when a previous game was found\n",
    "    if previous_stage_a != stage:\n",
    "        # Identify field in previous game\n",
    "        if betdf.loc[previous_index_a,'home_team_api_id'] == away:\n",
    "            previous_field_a = 'home'\n",
    "        else:\n",
    "            previous_field_a = 'away'\n",
    "        mydict = {'home':0, 'away':1}\n",
    "        avg_points_a = ((stage-2)*betdf.loc[previous_index_a,'points_'+previous_field_a] + \\\n",
    "                      points_dict[betdf.loc[previous_index_a,'outcome']][mydict[previous_field_a]])/(stage-1)  \n",
    "    # Assign points for away team when previous game was not found\n",
    "    else:\n",
    "        avg_points_a = 0.0\n",
    "    # Actual assignment to betdf\n",
    "    betdf.loc[index,'points_away'] = avg_points_a\n",
    "       \n"
   ]
  },
  {
   "cell_type": "code",
   "execution_count": 5,
   "metadata": {
    "collapsed": true
   },
   "outputs": [],
   "source": [
    "# Vectorization of streak_feature\n",
    "# it assigns streak values directly to betdf, without returning them\n",
    "\n",
    "def get_streak(index,n):\n",
    "    \"\"\"Adds average points feature up to previous games to dataframe\"\"\"\n",
    "    \n",
    "    stage=betdf.loc[index,'stage']\n",
    "    # Computations for home team of 'current (index)' game\n",
    "    tmp_stage = stage\n",
    "    assigned = False\n",
    "    while (tmp_stage-n>0) & (not assigned):\n",
    "        subdf = betdf[(betdf['season']==betdf.loc[index,'season']) & (betdf['stage']==(tmp_stage-n)) & \\\n",
    "                ((betdf['home_team_api_id']==betdf.loc[index,'home_team_api_id']) | \\\n",
    "                 (betdf['away_team_api_id']==betdf.loc[index,'home_team_api_id']))]\n",
    "        if subdf.shape[0] != 0:\n",
    "            assigned = True\n",
    "            if subdf.iloc[0]['home_team_api_id']==betdf.loc[index,'home_team_api_id']:\n",
    "                betdf.loc[index,'streak_home'] = (betdf.loc[index,'points_home']*(stage-1) - subdf.iloc[0]['points_home']*(tmp_stage-1-n))/n  \n",
    "            else:\n",
    "                betdf.loc[index,'streak_home'] = (betdf.loc[index,'points_home']*(stage-1) - subdf.iloc[0]['points_away']*(tmp_stage-1-n))/n\n",
    "        else:\n",
    "            tmp_stage -= 1\n",
    "\n",
    "    # Computations for away team of current (index) game\n",
    "    tmp_stage = stage\n",
    "    assigned = False\n",
    "    while (tmp_stage-n>0) & (not assigned):\n",
    "        subdf = betdf[(betdf['season']==betdf.loc[index,'season']) & (betdf['stage']==(tmp_stage-n)) & \\\n",
    "                ((betdf['home_team_api_id']==betdf.loc[index,'away_team_api_id']) | \\\n",
    "                 (betdf['away_team_api_id']==betdf.loc[index,'away_team_api_id']))]\n",
    "        if subdf.shape[0] != 0:\n",
    "            assigned = True\n",
    "            if subdf.iloc[0]['home_team_api_id']==betdf.loc[index,'away_team_api_id']:\n",
    "                betdf.loc[index,'streak_away'] = (betdf.loc[index,'points_away']*(stage-1) - subdf.iloc[0]['points_home']*(tmp_stage-1-n))/n\n",
    "            else:\n",
    "                betdf.loc[index,'streak_away'] = (betdf.loc[index,'points_away']*(stage-1) - subdf.iloc[0]['points_away']*(tmp_stage-1-n))/n\n",
    "        else:\n",
    "            tmp_stage -= 1\n"
   ]
  },
  {
   "cell_type": "code",
   "execution_count": 6,
   "metadata": {
    "collapsed": false
   },
   "outputs": [],
   "source": [
    "# calibration_plot and calibration_plot_compare functions: \n",
    "# modified from example in Harvard CS109 lab10\n",
    "\n",
    "# get_stats returns average within a group and the count for that group\n",
    "def get_stats(group, label_col, n):\n",
    "    if n==2:\n",
    "        return {'mean': (group == label_col).mean(), 'count': group.count()}   ###### -1\n",
    "    else:\n",
    "        return {'mean': (group == label_col-1).mean(), 'count': group.count()}\n",
    "    \n",
    "def calibration_plot(clf, xtest, ytest, label_col, n):\n",
    "    \"\"\"Input: classifier object, test data, correct labels, \n",
    "    and columns of labels in predict_proba\"\"\"\n",
    "    prob = clf.predict_proba(xtest)[:, label_col]\n",
    "    outcome = ytest\n",
    "    data = pd.DataFrame(dict(prob=prob, outcome=outcome))\n",
    "      \n",
    "    # Group outcomes into bins of similar probability\n",
    "    bins = np.linspace(0, 1, 21)\n",
    "    cuts = pd.cut(prob, bins)\n",
    "    binwidth = bins[1] - bins[0]\n",
    "\n",
    "    # Compute empirical probability and count of examples in each bin \n",
    "    cal = data.groupby(cuts).outcome.apply(lambda group : get_stats(group, label_col, n)).unstack()\n",
    "    cal['pmid'] = (bins[:-1] + bins[1:]) / 2\n",
    "    cal['sig'] = np.sqrt(cal.pmid * (1 - cal.pmid) / cal['count'])\n",
    "    \n",
    "    # Adjust label_col if no Draw predictions\n",
    "    if n==3:\n",
    "        label_col=label_col-1\n",
    "      \n",
    "    # The calibration plot\n",
    "    plt.figure(figsize=(12,8))\n",
    "    ax = plt.subplot2grid((3, 1), (0, 0), rowspan=2)\n",
    "    p = plt.errorbar(cal.pmid, cal['mean'], cal['sig'])\n",
    "    plt.plot(cal.pmid, cal.pmid, linestyle='--', lw=1, color='k')\n",
    "    plt.ylabel('Empirical P({0:d})'.format(label_col))   ####### -1\n",
    "\n",
    "    # The distribution of the probabilities\n",
    "    ax = plt.subplot2grid((3, 1), (2, 0), sharex=ax)\n",
    "    plt.bar(left=cal.pmid , height=cal['count'], width=.95 * (bins[1] - bins[0]), fc=p[0].get_color()) \n",
    "    plt.xlabel('Predicted P({0:d})'.format(label_col))   ####### -1\n",
    "    plt.ylabel(\"Number\")\n",
    "    plt.show()\n",
    "    \n",
    "def calibration_plot_compare(clf1, clf2, xtest, ytest, label_col, n, save=False, file_suffix=''):\n",
    "    \"\"\"Input: classifier object, test data, correct labels, \n",
    "    and columns of labels in predict_proba\"\"\"\n",
    "    prob = clf1.predict_proba(xtest)[:, label_col]\n",
    "    prob2 = clf2.predict_proba(xtest)[:, label_col]\n",
    "    outcome = ytest\n",
    "    data = pd.DataFrame(dict(prob=prob, prob2=prob2, outcome=outcome))\n",
    "        \n",
    "    # Group outcomes into bins of similar probability\n",
    "    bins = np.linspace(0, 1, 21)\n",
    "    cuts = pd.cut(prob, bins)\n",
    "    cuts2 = pd.cut(prob2, bins)\n",
    "    binwidth = bins[1] - bins[0]\n",
    "\n",
    "    # Compute empirical probability and count of examples in each bin \n",
    "    # for uncalibrated and calibrated classifiers\n",
    "    cal = data.groupby(cuts).outcome.apply(lambda group : get_stats(group, label_col, n)).unstack()\n",
    "    cal['pmid'] = (bins[:-1] + bins[1:]) / 2\n",
    "    cal['sig'] = np.sqrt(cal.pmid * (1 - cal.pmid) / cal['count'])\n",
    "    cal2 = data.groupby(cuts2).outcome.apply(lambda group : get_stats(group, label_col, n)).unstack()\n",
    "    cal2['pmid'] = (bins[:-1] + bins[1:]) / 2#+binwidth/6\n",
    "    cal2['sig'] = np.sqrt(cal2.pmid * (1 - cal2.pmid) / cal2['count'])\n",
    "    \n",
    "    # Adjust label_col if Draw predictions\n",
    "    if n==3:\n",
    "        label_col=label_col-1\n",
    "        field = {-1:'away',0:'draw',1:'home'}\n",
    "    else:\n",
    "        field = {0:'other',1:'home'}\n",
    "    # The calibration plot\n",
    "    plt.figure(figsize=(10,10))\n",
    "    ax = plt.subplot2grid((4, 1), (0, 0), rowspan=2)\n",
    "    p = plt.errorbar(cal.pmid, cal['mean'], cal['sig'], label=clf1.__class__.__name__)\n",
    "    p2 = plt.errorbar(cal2.pmid, cal2['mean'], cal2.sig, label=clf2.__class__.__name__)\n",
    "    plt.plot(cal.pmid, cal.pmid, linestyle='--', lw=1, color='k', label='Perfectly calibrated')\n",
    "    plt.legend()\n",
    "    plt.title('Calibration Plot: '+field[label_col], fontsize=14)\n",
    "    plt.ylabel('Empirical P('+field[label_col]+')')  ##### -1\n",
    "\n",
    "    # The distribution of uncalibrated probabilities\n",
    "    ax = plt.subplot2grid((4, 1), (2, 0), sharex=ax)\n",
    "    plt.bar(left=cal.pmid , height=cal['count'], width=.95 * (bins[1] - bins[0]), fc=p[0].get_color())\n",
    "    plt.ylabel(\"Number\")\n",
    "    \n",
    "    # The distribution of calibrated probabilities\n",
    "    ax = plt.subplot2grid((4, 1), (3, 0), sharex=ax)\n",
    "    plt.bar(left=cal2.pmid, height=cal2['count'], width=.95 * (bins[1] - bins[0]), fc=p2[0].get_color())\n",
    "    plt.xlabel('Predicted P('+field[label_col]+')')  ##### -1\n",
    "    plt.ylabel(\"Number\")\n",
    "    if save:\n",
    "        plt.savefig(field[label_col]+'_cali_compare_'+file_suffix+'.png')\n",
    "    plt.show()"
   ]
  },
  {
   "cell_type": "code",
   "execution_count": 7,
   "metadata": {
    "collapsed": true
   },
   "outputs": [],
   "source": [
    "def plot_confusion_matrix(cm, classes, normalize=False, title='Confusion matrix', cmap=plt.cm.Blues):\n",
    "    \"\"\"This function prints and plots the confusion matrix.\n",
    "    Normalization can be applied by setting `normalize=True`.\"\"\"\n",
    "    if normalize:\n",
    "        cm = 100*(cm/ cm.sum(axis=0)[np.newaxis,:])# cm.sum(axis=1)[:, np.newaxis] or cm.sum()\n",
    "\n",
    "    plt.imshow(cm, interpolation='nearest', cmap=cmap)\n",
    "    plt.title(title)\n",
    "#     plt.colorbar()\n",
    "    plt.colorbar(fraction=0.046, pad=0.04)\n",
    "    tick_marks = np.arange(len(classes))\n",
    "    plt.xticks(tick_marks, classes, rotation=30)\n",
    "    plt.yticks(tick_marks, classes)\n",
    "\n",
    "    fmt = '.2f' if normalize else 'd'\n",
    "    thresh = cm.max() / 2.\n",
    "    for i, j in itertools.product(range(cm.shape[0]), range(cm.shape[1])):\n",
    "        plt.text(j, i, format(cm[i, j], fmt), horizontalalignment=\"center\", color=\"white\" if cm[i, j] > thresh else \"black\")\n",
    "\n",
    "    plt.tight_layout()\n",
    "    plt.ylabel('True label')\n",
    "    plt.xlabel('Predicted label')"
   ]
  },
  {
   "cell_type": "markdown",
   "metadata": {},
   "source": [
    "## Prepare match_data dataframe"
   ]
  },
  {
   "cell_type": "code",
   "execution_count": 8,
   "metadata": {
    "collapsed": false
   },
   "outputs": [],
   "source": [
    "# Create dictionary to replace team_api_id with team_long_name\n",
    "team_dict = pd.Series(team_data['team_long_name'].values,index=team_data['team_api_id']).to_dict()\n",
    "\n",
    "# Replace team number id with team full name  \n",
    "match_data[\"home_team_api_id\"] = (match_data[\"home_team_api_id\"]).map(team_dict) \n",
    "match_data[\"away_team_api_id\"] = (match_data[\"away_team_api_id\"]).map(team_dict) \n",
    "\n",
    "# Create dictionary to replace league_id number with full name\n",
    "league_dict = {1:'Belgium Jupiler League',\n",
    "1729:'England Premier League',\n",
    "4769:'France Ligue 1',\n",
    "7809:'Germany 1. Bundesliga',\n",
    "10257:'Italy Serie A',\n",
    "13274:'Netherlands Eredivisie',\n",
    "15722:'Poland Ekstraklasa',\n",
    "17642:'Portugal Liga ZON Sagres',\n",
    "19694:'Scotland Premier League',\n",
    "21518:'Spain LIGA BBVA',\n",
    "24558:'Switzerland Super League'}\n",
    "\n",
    "# Replace league_id with league full name\n",
    "match_data[\"league_id\"] = (match_data[\"league_id\"]).map(league_dict) "
   ]
  },
  {
   "cell_type": "code",
   "execution_count": 9,
   "metadata": {
    "collapsed": false
   },
   "outputs": [
    {
     "data": {
      "text/plain": [
       "away_player_X11  5105     True\n",
       "                 8056     True\n",
       "                 8632     True\n",
       "                 12096    True\n",
       "                 22536    True\n",
       "away_player_Y11  5105     True\n",
       "                 8056     True\n",
       "                 8632     True\n",
       "                 12096    True\n",
       "                 22536    True\n",
       "dtype: bool"
      ]
     },
     "execution_count": 9,
     "metadata": {},
     "output_type": "execute_result"
    }
   ],
   "source": [
    "# Check for missing data in 5 major leagues \n",
    "checkdf = match_data[ (match_data['country_id'] == 1729)  | (match_data['country_id'] == 4769) |\\\n",
    "                     (match_data['country_id'] == 7809) | (match_data['country_id'] == 10257) |\\\n",
    "                     (match_data['country_id'] == 21518) ].iloc[:,11:55]\n",
    "\n",
    "df_null = checkdf.isnull().unstack()\n",
    "t = df_null[df_null]\n",
    "t"
   ]
  },
  {
   "cell_type": "code",
   "execution_count": 10,
   "metadata": {
    "collapsed": false
   },
   "outputs": [],
   "source": [
    "# Adjust manually missing data for 5 major leagues\n",
    "# match id 12097: one shift and two insertions\n",
    "trial = match_data[match_data.id == 12097].iloc[:,11:55]\n",
    "new  = trial.shift(1,None,1)\n",
    "match_data.iloc[12096:12097,11:55] = new\n",
    "match_data.iloc[12096,11] = 1\n",
    "match_data.iloc[12096,33] = 1\n",
    "\n",
    "# match id 5106: two shifts, one insertion each\n",
    "trial = match_data[match_data.id == 5106].iloc[:,25:33]\n",
    "new  = trial.shift(1,None,1)\n",
    "match_data.iloc[5105:5106,25:33] = new\n",
    "match_data.iloc[5105,25] = 6\n",
    "\n",
    "trial = match_data[match_data.id == 5106].iloc[:,47:55]\n",
    "new  = trial.shift(1,None,1)\n",
    "match_data.iloc[5105:5106,47:55] = new\n",
    "match_data.iloc[5105,47] = 3\n",
    "\n",
    "# match id 8057: two shifts, one insertion each\n",
    "trial = match_data[match_data.id == 8057].iloc[:,30:33]\n",
    "new  = trial.shift(1,None,1)\n",
    "match_data.iloc[8056:8057,30:33] = new\n",
    "match_data.iloc[8056,30] = 5\n",
    "\n",
    "trial = match_data[match_data.id == 8057].iloc[:,52:55]\n",
    "new  = trial.shift(1,None,1)\n",
    "match_data.iloc[8056:8057,52:55] = new\n",
    "match_data.iloc[8056,52] = 9\n",
    "\n",
    "# match id 8633: two shifts, one insertion each\n",
    "trial = match_data[match_data.id == 8633].iloc[:,24:33]\n",
    "new  = trial.shift(1,None,1)\n",
    "match_data.iloc[8632:8633,24:33] = new\n",
    "match_data.iloc[8632,24] = 4\n",
    "\n",
    "trial = match_data[match_data.id == 8633].iloc[:,46:55]\n",
    "new  = trial.shift(1,None,1)\n",
    "match_data.iloc[8632:8633,46:55] = new\n",
    "match_data.iloc[8632,46] = 6\n",
    "\n",
    "# match id 22537: two shifts, one insertion each\n",
    "trial = match_data[match_data.id == 22537].iloc[:,19:33]\n",
    "new  = trial.shift(1,None,1)\n",
    "match_data.iloc[22536:22537,19:33] = new\n",
    "match_data.iloc[22536,19] = 5\n",
    "\n",
    "trial = match_data[match_data.id == 22537].iloc[:,41:55]\n",
    "new  = trial.shift(1,None,1)\n",
    "match_data.iloc[22536:22537,41:55] = new\n",
    "match_data.iloc[22536,41] = 8"
   ]
  },
  {
   "cell_type": "code",
   "execution_count": 11,
   "metadata": {
    "collapsed": false
   },
   "outputs": [],
   "source": [
    "# # Take out 'Poland Ekstraklasa' and 'Switzerland Super League' as there is no betting data\n",
    "match_data = match_data[(match_data.league_id != 'Poland Ekstraklasa') & (match_data.league_id != 'Switzerland Super League')] \n",
    "# # Take out also minor leagues to reduce size and speed up feature creations\n",
    "match_data = match_data[(match_data.league_id != 'Netherlands Eredivisie') & (match_data.league_id != 'Scotland Premier League')]\n",
    "match_data = match_data[(match_data.league_id != 'Belgium Jupiler League') & (match_data.league_id != 'Portugal Liga ZON Sagres')]\n",
    "\n",
    "# leave only Italy Serie A for features testing\n",
    "# match_data = match_data[match_data['league_id']=='Italy Serie A']   #[:380]\n",
    "\n",
    "# Sort by 'league,season,stage' and reset index\n",
    "match_data.sort_values(['league_id','season','stage'], inplace=True)\n",
    "match_data.reset_index(drop=True,inplace=True)"
   ]
  },
  {
   "cell_type": "markdown",
   "metadata": {},
   "source": [
    "## Build betting dataframe to compute average odds"
   ]
  },
  {
   "cell_type": "code",
   "execution_count": 12,
   "metadata": {
    "collapsed": false
   },
   "outputs": [
    {
     "name": "stdout",
     "output_type": "stream",
     "text": [
      "betdf: (14577, 14)\n",
      "0.05% of rows had some missing value\n"
     ]
    }
   ],
   "source": [
    "# Select relevant columns from match_data\n",
    "selected=[2,3,4,7,8,9,10]\n",
    "# Select betting odds' columns for Home, Draw and Away\n",
    "for i in range(85,115,3):\n",
    "    selected.append(i)\n",
    "for i in range(86,115,3):\n",
    "    selected.append(i)\n",
    "for i in range(87,115,3):\n",
    "    selected.append(i)\n",
    "# Create dataframe with selected columns\n",
    "betdf = match_data.iloc[:, selected ]\n",
    "betdf['avgA'] = betdf.iloc[:,27:37].mean(axis=1)\n",
    "betdf['avgD'] = betdf.iloc[:,17:27].mean(axis=1)\n",
    "betdf['avgH'] = betdf.iloc[:,7:17].mean(axis=1)\n",
    "# Drop individual agencies columns, keeping only averages\n",
    "betdf = betdf.drop(betdf.columns[7:37], axis=1) \n",
    "\n",
    "# Create columns with expected result from average quotes and actual goal difference\n",
    "exp_dict = {'avgH': 'Home','avgD':'Draw','avgA':'Away'}\n",
    "# Create expected outcome column by selecting name of lowest (average) odds \n",
    "betdf['exp_outcome'] = (betdf[betdf.columns[-3:]]).idxmin(axis=1)\n",
    "# Replace exp_outcome using exp_dict\n",
    "betdf[\"exp_outcome\"] = (betdf['exp_outcome']).map(exp_dict) \n",
    "# Create actual 'outcome' column with values; 1 (Home win), 0 (Tie), -1 (Away win)\n",
    "betdf['outcome'] = np.sign(betdf['home_team_goal']-betdf['away_team_goal'])\n",
    "\n",
    "# Create new series for betdf to store average points for later feature building\n",
    "betdf['points_home'] = 0.0\n",
    "betdf['points_away'] = 0.0\n",
    "\n",
    "# Drop rows with 'any' missing values\n",
    "betdf.dropna(how='any', inplace=True)\n",
    "\n",
    "print('betdf:',betdf.shape)\n",
    "number = (match_data.shape[0] - betdf.shape[0])/match_data.shape[0]\n",
    "print('{0:.2f}% of rows had some missing value'.format(100*number))\n",
    "\n",
    "# Drop from match_data matches where bookmakers' odds are missing\n",
    "match_data = match_data[(match_data.index).isin(betdf.index)]"
   ]
  },
  {
   "cell_type": "markdown",
   "metadata": {},
   "source": [
    "## Build X Dataframe for prediction"
   ]
  },
  {
   "cell_type": "code",
   "execution_count": 13,
   "metadata": {
    "collapsed": false,
    "scrolled": true
   },
   "outputs": [
    {
     "name": "stdout",
     "output_type": "stream",
     "text": [
      "Wall time: 9min 7s\n"
     ]
    }
   ],
   "source": [
    "%%time\n",
    "############  DataFrame X is built for predictions  ##########\n",
    "sel_cols = list(match_data.columns)[2:5]\n",
    "# Build X dataframe index using betdf 'league_id', season' and 'stage' columns\n",
    "X = betdf[sel_cols]\n",
    "\n",
    "# Modify 'season' values into integers as in: '2008/2009' -> 2008\n",
    "X['season'] = (X['season'].str.slice(0,4)).astype(int)\n",
    "\n",
    "# FEATURE 1: Bookies averages for Home Win, Draw, and Away Win\n",
    "X['avgA'] = betdf['avgA']\n",
    "X['avgD'] = betdf['avgD']\n",
    "X['avgH'] = betdf['avgH']\n",
    "\n",
    "# Add actual outcome of games\n",
    "X['outcome'] = betdf['outcome']\n",
    "\n",
    "# FEATURE 2: Add average points up to previous game\n",
    "# Dictionary to translate outcome into points for home and away\n",
    "points_dict = {1:[3,0], 0:[1,1], -1:[0,3]}\n",
    "# Vectorized code (does not use the function wrapper points_feature)\n",
    "vec_pts = np.vectorize(get_points, doc='Vectorized version of get_points')  # otypes=['float','float']\n",
    "vec_pts(betdf.index.values, betdf['home_team_api_id'], betdf['away_team_api_id'], betdf['season'], betdf['stage'])\n",
    "\n",
    "X['points_home'] = betdf['points_home']\n",
    "X['points_away'] = betdf['points_away']\n",
    "\n",
    "# FEATURE 3: Add streak for last n games\n",
    "n=5\n",
    "vec_streak = np.vectorize(get_streak, doc='Vectorized version of get_streak')\n",
    "\n",
    "#Initialize streak columns with points columns' values\n",
    "betdf['streak_home'] = betdf['points_home'].copy()\n",
    "betdf['streak_away'] = betdf['points_away'].copy()\n",
    "\n",
    "# Run vec_streak only after stage n+1 (use average points for previous stages)\n",
    "streakdf = betdf[betdf['stage']> n+1]\n",
    "vec_streak(streakdf.index,n)\n",
    "\n",
    "# Assign values of betdf\n",
    "X['streak_home'] = betdf['streak_home']\n",
    "X['streak_away'] = betdf['streak_away']"
   ]
  },
  {
   "cell_type": "code",
   "execution_count": 14,
   "metadata": {
    "collapsed": false
   },
   "outputs": [
    {
     "name": "stdout",
     "output_type": "stream",
     "text": [
      "Wall time: 6.02 s\n"
     ]
    }
   ],
   "source": [
    "%%time \n",
    "# FEATURE 4: Add type of formation e.g. 442, 433, ... using _Y positions of players\n",
    "# Can be modified to determine whether formation is offensive or defensive, to limit\n",
    "# creation of pseudo variables for logistic regression\n",
    "formation = {}\n",
    "for ind,match in match_data.iterrows():\n",
    "    formation[ind] = {}\n",
    "    formation[ind]['home_y'] = []\n",
    "    formation[ind]['away_y'] = []\n",
    "    for i in range(11):\n",
    "        formation[ind]['home_y'].append(int(match['home_player_Y'+str(int(i+1))]))\n",
    "        formation[ind]['away_y'].append(int(match['away_player_Y'+str(int(i+1))]))\n",
    "\n",
    "# Store results in dataframe for vectorization\n",
    "formationdf = pd.DataFrame.from_dict(formation, orient='index')\n",
    "formationdf = formationdf[match_data.index.isin(X.index)]\n",
    "\n",
    "def get_formation(lst):\n",
    "    \"\"\"Turns list of 11 Y positions into a formation type\n",
    "       (excluding goalie)\"\"\"\n",
    "    string = ''\n",
    "    for i in range(11):\n",
    "        string += str(lst.count(i+1))\n",
    "    string = string.replace('0','')\n",
    "    return string[1:]\n",
    "\n",
    "# Vectorized version of get_formation method\n",
    "vec_form = np.vectorize(get_formation, doc='Vectorized form of get_formation')\n",
    "X['home_y'] = vec_form(formationdf['home_y'])\n",
    "X['away_y'] = vec_form(formationdf['away_y'])\n",
    "\n",
    "# Modify formation into 2 new variables defensive and offensive, for both home and away\n",
    "field=['home','away']\n",
    "offensive_formations=['433','4321','4312','4231','4213','4123']\n",
    "defensive_formations=['541','532','5311','451','4411']\n",
    "for f in field:\n",
    "    X['offensive_'+f] = X[f+'_y'].isin(offensive_formations)*1\n",
    "    X['defensive_'+f] = X[f+'_y'].isin(defensive_formations)*1\n",
    "\n",
    "# Check assignment\n",
    "# list(zip(X['offensive_home'],X['home_y']))[:20]\n",
    "\n",
    "# Delete home_y and away_y columns\n",
    "del X['home_y']\n",
    "del X['away_y']"
   ]
  },
  {
   "cell_type": "code",
   "execution_count": 15,
   "metadata": {
    "collapsed": false
   },
   "outputs": [],
   "source": [
    "# %%time\n",
    "# # FEATURE 5: Add averages of players' attributes from player_stats_data table from each team.\n",
    "# # Create list of attributes' names\n",
    "# names=list(player_stats_data.columns.values)\n",
    "# # Remove non-numeric attributes: 'preferred_foot','attacking_work_rate','defensive_work_rate'\n",
    "# del names[6:9]\n",
    "# # Remove 'id' type values\n",
    "# del names[:4]\n",
    "# # Remove goalkeeper attributes\n",
    "# del names[-5:]\n",
    "\n",
    "# # Create nested dictionary of dictionaries for names' attributes\n",
    "# dics = {}\n",
    "# for name in names:\n",
    "#     # Create dictionaries {'player_id' : name} for each category\n",
    "#     dics[name] = pd.Series(player_stats_data[name].values, index=player_stats_data['player_api_id']).to_dict()\n",
    "\n",
    "#     # Slice match_data to keep only players' ids\n",
    "#     subdf = match_data.iloc[:,55:77]\n",
    "\n",
    "#     # Replace player_id in formation with player 'attribute' stats\n",
    "#     for field in ['home','away']:\n",
    "#         for i in range(11):\n",
    "#             subdf[field+'_player_'+str(int(i+1))] = (subdf[field+'_player_'+str(int(i+1))]).map(dics[name])\n",
    "#     # Set team averages\n",
    "#     X[name+'_home'] = subdf.iloc[:,1:11].mean(1)\n",
    "#     X[name+'_away'] = subdf.iloc[:,12:22].mean(1)\n",
    "\n",
    "# # Combine names of goal keeping columns attributes\n",
    "# gknames=list(player_stats_data.columns.values)\n",
    "# gknames = gknames[-5:]\n",
    "\n",
    "# # looping over gk attributes\n",
    "# for name in gknames:\n",
    "#     subdf = pd.concat([match_data['home_player_1'],match_data['away_player_1']], axis=1)\n",
    "    \n",
    "#     # Create dictionaries {'player_id' : name} for each category\n",
    "#     dics[name] = pd.Series(player_stats_data[name].values, index=player_stats_data['player_api_id']).to_dict()\n",
    "\n",
    "#     # Replace goalie player_id in formation with player overall FIFA rating\n",
    "#     for field in ['home','away']:\n",
    "#         X[name+'_'+field] = (subdf[field+'_player_1']).map(dics[name])"
   ]
  },
  {
   "cell_type": "code",
   "execution_count": 16,
   "metadata": {
    "collapsed": false
   },
   "outputs": [
    {
     "name": "stdout",
     "output_type": "stream",
     "text": [
      "Wall time: 362 ms\n"
     ]
    }
   ],
   "source": [
    "%%time\n",
    "# FEATURE 6: Add overall ranking of best player from player_stats_data table for each team.\n",
    "\n",
    "dics={}\n",
    "# Create  dictionary to replace names w/ overall_rating\n",
    "dics['overall_rating'] = \\\n",
    "        pd.Series(player_stats_data['overall_rating'].values, index=player_stats_data['player_api_id']).to_dict()\n",
    "\n",
    "# Slice match_data to keep only players' ids\n",
    "subdf = match_data.iloc[:,55:77]\n",
    "\n",
    "# Replace player_id in formation with player 'attribute' stats\n",
    "for field in ['home','away']:\n",
    "    for i in range(11):\n",
    "        subdf[field+'_player_'+str(int(i+1))] = (subdf[field+'_player_'+str(int(i+1))]).map(dics['overall_rating'])\n",
    "# Set team averages\n",
    "X['best_player_home'] = subdf.iloc[:,:11].max(1)\n",
    "X['best_player_away'] = subdf.iloc[:,11:22].max(1)\n",
    "X['best_player_home'] = X['best_player_home'].astype(int)\n",
    "X['best_player_away'] = X['best_player_away'].astype(int)\n",
    "# Uncomment when only selecting only these features and the best_player ones\n",
    "X['overall_rating_home'] = subdf.iloc[:,:11].mean(1)\n",
    "X['overall_rating_away'] = subdf.iloc[:,11:22].mean(1)"
   ]
  },
  {
   "cell_type": "code",
   "execution_count": 17,
   "metadata": {
    "collapsed": true
   },
   "outputs": [],
   "source": [
    "# FEATURE 7: Introduce bookies difference = max()-min() among 'avg_' odds\n",
    "avg_lst = ['avgA','avgD','avgH']\n",
    "X['diff'] = X[avg_lst].max(axis=1) - X[avg_lst].min(axis=1)"
   ]
  },
  {
   "cell_type": "code",
   "execution_count": 18,
   "metadata": {
    "collapsed": true
   },
   "outputs": [],
   "source": [
    "# FEATURE 7: Feature 'tie' is used to increase successfull prediction of ties \n",
    "# based on *number* stats most likely to predict a tie.\n",
    "\n",
    "# Look at all matches that ended in a tie to study characteristics of a tie game, values will be\n",
    "# compared to those of not tied games. For example: (feat_mean_for_tie - feat_mean_for_not_tie)/feat_std_for_not_tie\n",
    "# Thus best_player_home = -0.104 means that when there is a tie best_player_home values are generally\n",
    "# .104 standard deviations lower than for not tie games\n",
    "dftie = X[X['outcome'] == 0]\n",
    "dfnottie = X[X['outcome'] != 0]\n",
    "# df.describe()\n",
    "# dfnottie.describe()\n",
    "n_cat = 5  # number of categories to choose\n",
    "tie_categories = ((((dftie.describe()).loc['mean',:]-(dfnottie.describe()).loc['mean',:])/(dfnottie.describe()).loc['std',:])\\\n",
    "             .sort_values()).index[1:n_cat+1].values  # exclude 'outcome' (first value)"
   ]
  },
  {
   "cell_type": "code",
   "execution_count": 19,
   "metadata": {
    "collapsed": false
   },
   "outputs": [
    {
     "data": {
      "text/plain": [
       "array(['diff', 'avgD', 'avgA', 'best_player_home', 'overall_rating_home'], dtype=object)"
      ]
     },
     "execution_count": 19,
     "metadata": {},
     "output_type": "execute_result"
    }
   ],
   "source": [
    "tie_categories"
   ]
  },
  {
   "cell_type": "code",
   "execution_count": 20,
   "metadata": {
    "collapsed": false
   },
   "outputs": [],
   "source": [
    "# Feature *TIE* depends on the constants *con*.\n",
    "# When ready to test selected value: set 'con_start = con_stop' to define con value to be used\n",
    "\n",
    "# Prepare 'tie' column for X dataframe\n",
    "X['tie'] = 0\n",
    "\n",
    "# Automate cons and tie values\n",
    "con_start = -0.3     # set con_start=con_stop to assign\n",
    "con_stop = -0.3      # single value to build X for calculations\n",
    "steps = int(round((con_stop-con_start)/.1,0))+1\n",
    "cons = np.linspace(con_start,con_stop,steps)\n",
    "ties = range(n_cat+1)\n",
    "\n",
    "# Build multiindex res dataframe to store results\n",
    "# Build iterable multiindex and columns' names\n",
    "iterables = [cons,ties]\n",
    "index = pd.MultiIndex.from_product(iterables, names=['constant', 'tie level'])\n",
    "columns = ['predictions','correct','percentage']#,'compared']\n",
    "# compared column holds difference with .2529 the averagepercentage of ties among games\n",
    "res = pd.DataFrame(columns = columns, index=index)\n",
    "\n",
    "# Compute tie value\n",
    "for con in cons:\n",
    "    X['tie'] = 0\n",
    "    for name in tie_categories: \n",
    "        X['tie'] += (X[name] < X[name].mean() + con*X[name].std())*1\n",
    "    # Store results given 'tie' level for comparison\n",
    "    for i in range(n_cat+1):\n",
    "        res.loc[con,i]['predictions'] = X[X['tie']==i].shape[0]\n",
    "        res.loc[con,i]['correct'] = X[(X['tie']==i) & (X['outcome']==0)].shape[0]\n",
    "        if X[X['tie']==i].shape[0] != 0:\n",
    "            res.loc[con,i]['percentage'] = (X[(X['tie']==i) & (X['outcome']==0)].shape[0]/X[X['tie']==i].shape[0])\n",
    "#             res.loc[con,i]['compared'] = res.loc[con,i]['percentage'] - .2529\n",
    "        else:\n",
    "            res.loc[con,i]['percentage'] = None\n",
    "#             res.loc[con,i]['compared'] = None"
   ]
  },
  {
   "cell_type": "code",
   "execution_count": 21,
   "metadata": {
    "collapsed": false
   },
   "outputs": [
    {
     "name": "stdout",
     "output_type": "stream",
     "text": [
      "Cons = -0.3, difference = 0.1237, std = 0.0424, z = 2.9182\n"
     ]
    },
    {
     "data": {
      "text/html": [
       "<div>\n",
       "<table border=\"1\" class=\"dataframe\">\n",
       "  <thead>\n",
       "    <tr>\n",
       "      <th></th>\n",
       "      <th>predictions</th>\n",
       "      <th>correct</th>\n",
       "      <th>percentage</th>\n",
       "    </tr>\n",
       "    <tr>\n",
       "      <th>constant</th>\n",
       "      <th>-0.3</th>\n",
       "      <th>-0.3</th>\n",
       "      <th>-0.3</th>\n",
       "    </tr>\n",
       "    <tr>\n",
       "      <th>tie level</th>\n",
       "      <th></th>\n",
       "      <th></th>\n",
       "      <th></th>\n",
       "    </tr>\n",
       "  </thead>\n",
       "  <tbody>\n",
       "    <tr>\n",
       "      <th>0</th>\n",
       "      <td>3141</td>\n",
       "      <td>615</td>\n",
       "      <td>0.195798</td>\n",
       "    </tr>\n",
       "    <tr>\n",
       "      <th>1</th>\n",
       "      <td>1617</td>\n",
       "      <td>386</td>\n",
       "      <td>0.238714</td>\n",
       "    </tr>\n",
       "    <tr>\n",
       "      <th>2</th>\n",
       "      <td>2223</td>\n",
       "      <td>548</td>\n",
       "      <td>0.246514</td>\n",
       "    </tr>\n",
       "    <tr>\n",
       "      <th>3</th>\n",
       "      <td>3564</td>\n",
       "      <td>980</td>\n",
       "      <td>0.274972</td>\n",
       "    </tr>\n",
       "    <tr>\n",
       "      <th>4</th>\n",
       "      <td>2085</td>\n",
       "      <td>587</td>\n",
       "      <td>0.281535</td>\n",
       "    </tr>\n",
       "    <tr>\n",
       "      <th>5</th>\n",
       "      <td>1947</td>\n",
       "      <td>622</td>\n",
       "      <td>0.319466</td>\n",
       "    </tr>\n",
       "  </tbody>\n",
       "</table>\n",
       "</div>"
      ],
      "text/plain": [
       "          predictions correct percentage\n",
       "constant         -0.3    -0.3       -0.3\n",
       "tie level                               \n",
       "0                3141     615   0.195798\n",
       "1                1617     386   0.238714\n",
       "2                2223     548   0.246514\n",
       "3                3564     980   0.274972\n",
       "4                2085     587   0.281535\n",
       "5                1947     622   0.319466"
      ]
     },
     "execution_count": 21,
     "metadata": {},
     "output_type": "execute_result"
    }
   ],
   "source": [
    "# Compute difference between max and min percentage and stdev of percentages\n",
    "# Ideally higher difference relates better to ties\n",
    "for con in cons:\n",
    "    tmp_diff = res.loc[con,:]['percentage'].max()-res.loc[con,:]['percentage'].min()\n",
    "    tmp_std = res.loc[con,:]['percentage'].std()\n",
    "    print('Cons = {0:4.1f}, difference = {1:.4f}, std = {2:.4f}, z = {3:.4f}'.format(con, tmp_diff, tmp_std, tmp_diff/tmp_std))\n",
    "\n",
    "# Display predictions, correctness, or percentage\n",
    "val = len(cons)\n",
    "# df = res.unstack(0).iloc[:,:val]  # displays predictions\n",
    "# df = res.unstack(0).iloc[:,val:2*val]  # displays correct\n",
    "# df = res.unstack(0).iloc[:,2*val:3*val]  # displays percentage\n",
    "# df\n",
    "res.unstack(0)"
   ]
  },
  {
   "cell_type": "code",
   "execution_count": 22,
   "metadata": {
    "collapsed": false
   },
   "outputs": [
    {
     "name": "stdout",
     "output_type": "stream",
     "text": [
      "-0.3 (0.97785212573130931, 0.00073036042199238081)\n"
     ]
    }
   ],
   "source": [
    "lst = [0,1,2,3,4,5]\n",
    "for n,con in enumerate(cons):\n",
    "    print(con,stats.pearsonr(lst,res.unstack().percentage.iloc[n,:]))\n",
    "# res.unstack().percentage.iloc[0,:]"
   ]
  },
  {
   "cell_type": "code",
   "execution_count": 23,
   "metadata": {
    "collapsed": false
   },
   "outputs": [
    {
     "name": "stdout",
     "output_type": "stream",
     "text": [
      "<class 'pandas.core.frame.DataFrame'>\n",
      "Int64Index: 14577 entries, 0 to 14584\n",
      "Data columns (total 21 columns):\n",
      "league_id              14577 non-null object\n",
      "season                 14577 non-null int32\n",
      "stage                  14577 non-null int64\n",
      "avgA                   14577 non-null float64\n",
      "avgD                   14577 non-null float64\n",
      "avgH                   14577 non-null float64\n",
      "outcome                14577 non-null int64\n",
      "points_home            14577 non-null float64\n",
      "points_away            14577 non-null float64\n",
      "streak_home            14577 non-null float64\n",
      "streak_away            14577 non-null float64\n",
      "offensive_home         14577 non-null int32\n",
      "defensive_home         14577 non-null int32\n",
      "offensive_away         14577 non-null int32\n",
      "defensive_away         14577 non-null int32\n",
      "best_player_home       14577 non-null int32\n",
      "best_player_away       14577 non-null int32\n",
      "overall_rating_home    14577 non-null float64\n",
      "overall_rating_away    14577 non-null float64\n",
      "diff                   14577 non-null float64\n",
      "tie                    14577 non-null int64\n",
      "dtypes: float64(10), int32(7), int64(3), object(1)\n",
      "memory usage: 2.1+ MB\n"
     ]
    }
   ],
   "source": [
    "# Check for any missing data       \n",
    "# X.info()\n",
    "\n",
    "# Missing goal keepers' data is filled with average value of attribute from all goal keepers\n",
    "# in games considered. Missing players' data is simply excluded from average\n",
    "# X.fillna(X.mean(), inplace=True)\n",
    "# Check again \n",
    "X.info()"
   ]
  },
  {
   "cell_type": "markdown",
   "metadata": {},
   "source": [
    "## Predict outcome using X dataframe"
   ]
  },
  {
   "cell_type": "markdown",
   "metadata": {},
   "source": [
    "### Build XX dataframe from X dataframe for predictions"
   ]
  },
  {
   "cell_type": "code",
   "execution_count": 24,
   "metadata": {
    "collapsed": false
   },
   "outputs": [
    {
     "name": "stdout",
     "output_type": "stream",
     "text": [
      "Wall time: 191 ms\n"
     ]
    }
   ],
   "source": [
    "%%time\n",
    "# Build XX dataframe from X, including only features used\n",
    "# XX = X.iloc[:,1:]\n",
    "# XX['league_id'] = X['league_id']\n",
    "# del XX['league_id']\n",
    "# del XX['stage']\n",
    "\n",
    "\n",
    "# PREPROCESSING: Create dummy features for league_id, and season\n",
    "columns=['season', 'league_id']#, 'home_y', 'away_y']\n",
    "dummies = pd.get_dummies(X, columns=columns, drop_first=True) \n",
    "XX = X.merge(dummies)\n",
    "XX = XX.loc[:,~XX.columns.isin(columns)]\n",
    "# del XX['diff']\n",
    "# del XX['avgD']\n",
    "# del XX['season']\n",
    "\n",
    "# PREPROCESSING: Delete 'streak_home' and 'streak_away'\n",
    "# del XX['streak_home']\n",
    "# del XX['streak_away']\n",
    "\n",
    "# PREPROCESSING: Square all features\n",
    "# poly = preprocessing.PolynomialFeatures(2)\n",
    "# XX_transformed = poly.fit_transform(XX.loc[:, XX.columns != 'outcome'])\n",
    "\n",
    "# PREPROCESSING: Scale all features\n",
    "XX_scaled = preprocessing.scale(XX.loc[:, XX.columns != 'outcome'])"
   ]
  },
  {
   "cell_type": "code",
   "execution_count": 26,
   "metadata": {
    "collapsed": false
   },
   "outputs": [],
   "source": [
    "# Parameter for LogisticRegressionCV\n",
    "Cs =  [0.0033, 0.01, 0.033, 0.1, 0.33, 1]\n",
    "r=1\n",
    "# Classifiers to test\n",
    "LRCV = LogisticRegressionCV(Cs=Cs, cv=5, solver='sag', random_state=r, multi_class='multinomial')\n",
    "LR = LogisticRegression(C=.01, solver='sag', random_state=r, multi_class='multinomial')\n",
    "RF = RandomForestClassifier(n_estimators=200, max_depth=8, min_samples_leaf=6, min_samples_split=20, \\\n",
    "                                   random_state = r, max_features='sqrt')\n",
    "ABRF = AdaBoostClassifier(base_estimator=RandomForestClassifier(n_estimators=30, max_depth=6, min_samples_leaf=3, \\\n",
    "                                min_samples_split=10, random_state=r, max_features='sqrt'), n_estimators=15, learning_rate=.35)\n",
    "# ABLR = AdaBoostClassifier(base_estimator=LogisticRegression(C=.01, solver='sag', random_state=r, multi_class='multinomial'),\\\n",
    "#                          n_estimators=50, learning_rate=.25)\n",
    "classifiers = [LRCV, LR, RF, ABRF]#, ABLR]\n",
    "results = {}"
   ]
  },
  {
   "cell_type": "code",
   "execution_count": 27,
   "metadata": {
    "collapsed": false
   },
   "outputs": [
    {
     "name": "stdout",
     "output_type": "stream",
     "text": [
      "Classifier: LogisticRegressionCV(Cs=[0.0033, 0.01, 0.033, 0.1, 0.33, 1],\n",
      "           class_weight=None, cv=5, dual=False, fit_intercept=True,\n",
      "           intercept_scaling=1.0, max_iter=100, multi_class='multinomial',\n",
      "           n_jobs=1, penalty='l2', random_state=1, refit=True,\n",
      "           scoring=None, solver='sag', tol=0.0001, verbose=0)\n",
      "Accuracy Test score     52.551440\n",
      "Accuracy Train score    53.160446\n",
      "Log Loss Test score      0.984080\n",
      "Log Loss Train score     0.975789\n",
      "dtype: float64\n"
     ]
    },
    {
     "data": {
      "text/html": [
       "<div>\n",
       "<table border=\"1\" class=\"dataframe\">\n",
       "  <thead>\n",
       "    <tr style=\"text-align: right;\">\n",
       "      <th></th>\n",
       "      <th>1</th>\n",
       "      <th>2</th>\n",
       "      <th>3</th>\n",
       "      <th>4</th>\n",
       "      <th>5</th>\n",
       "      <th>6</th>\n",
       "      <th>7</th>\n",
       "      <th>8</th>\n",
       "      <th>9</th>\n",
       "      <th>10</th>\n",
       "    </tr>\n",
       "  </thead>\n",
       "  <tbody>\n",
       "    <tr>\n",
       "      <th>Accuracy Test score</th>\n",
       "      <td>52.7023</td>\n",
       "      <td>51.7147</td>\n",
       "      <td>52.1262</td>\n",
       "      <td>53.1139</td>\n",
       "      <td>52.1262</td>\n",
       "      <td>52.4005</td>\n",
       "      <td>53.4705</td>\n",
       "      <td>52.7298</td>\n",
       "      <td>51.2483</td>\n",
       "      <td>52.7572</td>\n",
       "    </tr>\n",
       "    <tr>\n",
       "      <th>Accuracy Train score</th>\n",
       "      <td>53.0735</td>\n",
       "      <td>53.476</td>\n",
       "      <td>53.3937</td>\n",
       "      <td>53.0004</td>\n",
       "      <td>53.348</td>\n",
       "      <td>53.165</td>\n",
       "      <td>53.0278</td>\n",
       "      <td>53.0735</td>\n",
       "      <td>53.6315</td>\n",
       "      <td>53.1559</td>\n",
       "    </tr>\n",
       "    <tr>\n",
       "      <th>Correctness</th>\n",
       "      <td>[51.22, 44.44, 53.19]</td>\n",
       "      <td>[52.51, 32.00, 51.65]</td>\n",
       "      <td>[49.17, 30.77, 53.21]</td>\n",
       "      <td>[50.23, 14.29, 54.24]</td>\n",
       "      <td>[49.78, 37.50, 52.94]</td>\n",
       "      <td>[51.66, 43.33, 52.74]</td>\n",
       "      <td>[51.25, 24.14, 54.55]</td>\n",
       "      <td>[52.45, 33.33, 52.86]</td>\n",
       "      <td>[47.62, 23.53, 52.62]</td>\n",
       "      <td>[48.37, 57.14, 54.23]</td>\n",
       "    </tr>\n",
       "    <tr>\n",
       "      <th>Log Loss Test score</th>\n",
       "      <td>0.983873</td>\n",
       "      <td>0.991694</td>\n",
       "      <td>0.988887</td>\n",
       "      <td>0.984286</td>\n",
       "      <td>0.988098</td>\n",
       "      <td>0.978973</td>\n",
       "      <td>0.981714</td>\n",
       "      <td>0.983341</td>\n",
       "      <td>0.995255</td>\n",
       "      <td>0.983076</td>\n",
       "    </tr>\n",
       "    <tr>\n",
       "      <th>Log Loss Train score</th>\n",
       "      <td>0.976064</td>\n",
       "      <td>0.973359</td>\n",
       "      <td>0.974089</td>\n",
       "      <td>0.975649</td>\n",
       "      <td>0.97417</td>\n",
       "      <td>0.978013</td>\n",
       "      <td>0.97647</td>\n",
       "      <td>0.975929</td>\n",
       "      <td>0.971898</td>\n",
       "      <td>0.976217</td>\n",
       "    </tr>\n",
       "    <tr>\n",
       "      <th>Predictions</th>\n",
       "      <td>{-1: 863, 0: 9, 1: 2773}</td>\n",
       "      <td>{-1: 855, 0: 25, 1: 2765}</td>\n",
       "      <td>{-1: 907, 0: 13, 1: 2725}</td>\n",
       "      <td>{-1: 886, 0: 14, 1: 2745}</td>\n",
       "      <td>{-1: 896, 0: 8, 1: 2741}</td>\n",
       "      <td>{-1: 873, 0: 30, 1: 2742}</td>\n",
       "      <td>{-1: 921, 0: 29, 1: 2695}</td>\n",
       "      <td>{-1: 858, 0: 6, 1: 2781}</td>\n",
       "      <td>{-1: 903, 0: 17, 1: 2725}</td>\n",
       "      <td>{-1: 922, 0: 14, 1: 2709}</td>\n",
       "    </tr>\n",
       "  </tbody>\n",
       "</table>\n",
       "</div>"
      ],
      "text/plain": [
       "                                            1                          2                          3                          4                         5                          6                          7                         8                          9                          10\n",
       "Accuracy Test score                    52.7023                    51.7147                    52.1262                    53.1139                   52.1262                    52.4005                    53.4705                   52.7298                    51.2483                    52.7572\n",
       "Accuracy Train score                   53.0735                     53.476                    53.3937                    53.0004                    53.348                     53.165                    53.0278                   53.0735                    53.6315                    53.1559\n",
       "Correctness              [51.22, 44.44, 53.19]      [52.51, 32.00, 51.65]      [49.17, 30.77, 53.21]      [50.23, 14.29, 54.24]     [49.78, 37.50, 52.94]      [51.66, 43.33, 52.74]      [51.25, 24.14, 54.55]     [52.45, 33.33, 52.86]      [47.62, 23.53, 52.62]      [48.37, 57.14, 54.23]\n",
       "Log Loss Test score                   0.983873                   0.991694                   0.988887                   0.984286                  0.988098                   0.978973                   0.981714                  0.983341                   0.995255                   0.983076\n",
       "Log Loss Train score                  0.976064                   0.973359                   0.974089                   0.975649                   0.97417                   0.978013                    0.97647                  0.975929                   0.971898                   0.976217\n",
       "Predictions           {-1: 863, 0: 9, 1: 2773}  {-1: 855, 0: 25, 1: 2765}  {-1: 907, 0: 13, 1: 2725}  {-1: 886, 0: 14, 1: 2745}  {-1: 896, 0: 8, 1: 2741}  {-1: 873, 0: 30, 1: 2742}  {-1: 921, 0: 29, 1: 2695}  {-1: 858, 0: 6, 1: 2781}  {-1: 903, 0: 17, 1: 2725}  {-1: 922, 0: 14, 1: 2709}"
      ]
     },
     "metadata": {},
     "output_type": "display_data"
    },
    {
     "name": "stdout",
     "output_type": "stream",
     "text": [
      "Classifier: LogisticRegression(C=0.01, class_weight=None, dual=False, fit_intercept=True,\n",
      "          intercept_scaling=1, max_iter=100, multi_class='multinomial',\n",
      "          n_jobs=1, penalty='l2', random_state=1, solver='sag', tol=0.0001,\n",
      "          verbose=0, warm_start=False)\n",
      "Accuracy Test score     52.386831\n",
      "Accuracy Train score    53.229052\n",
      "Log Loss Test score      0.984294\n",
      "Log Loss Train score     0.974779\n",
      "dtype: float64\n"
     ]
    },
    {
     "data": {
      "text/html": [
       "<div>\n",
       "<table border=\"1\" class=\"dataframe\">\n",
       "  <thead>\n",
       "    <tr style=\"text-align: right;\">\n",
       "      <th></th>\n",
       "      <th>1</th>\n",
       "      <th>2</th>\n",
       "      <th>3</th>\n",
       "      <th>4</th>\n",
       "      <th>5</th>\n",
       "      <th>6</th>\n",
       "      <th>7</th>\n",
       "      <th>8</th>\n",
       "      <th>9</th>\n",
       "      <th>10</th>\n",
       "    </tr>\n",
       "  </thead>\n",
       "  <tbody>\n",
       "    <tr>\n",
       "      <th>Accuracy Test score</th>\n",
       "      <td>52.8121</td>\n",
       "      <td>51.7147</td>\n",
       "      <td>51.989</td>\n",
       "      <td>52.9492</td>\n",
       "      <td>51.9067</td>\n",
       "      <td>52.4005</td>\n",
       "      <td>53.251</td>\n",
       "      <td>52.3731</td>\n",
       "      <td>51.2209</td>\n",
       "      <td>52.7572</td>\n",
       "    </tr>\n",
       "    <tr>\n",
       "      <th>Accuracy Train score</th>\n",
       "      <td>53.165</td>\n",
       "      <td>53.3571</td>\n",
       "      <td>53.3022</td>\n",
       "      <td>53.1101</td>\n",
       "      <td>53.4852</td>\n",
       "      <td>53.2748</td>\n",
       "      <td>52.9455</td>\n",
       "      <td>53.1193</td>\n",
       "      <td>53.5035</td>\n",
       "      <td>53.1833</td>\n",
       "    </tr>\n",
       "    <tr>\n",
       "      <th>Correctness</th>\n",
       "      <td>[51.40, 53.85, 53.24]</td>\n",
       "      <td>[52.75, 31.71, 51.69]</td>\n",
       "      <td>[48.80, 34.62, 53.23]</td>\n",
       "      <td>[50.17, 39.13, 53.95]</td>\n",
       "      <td>[49.60, 33.33, 52.70]</td>\n",
       "      <td>[51.59, 43.75, 52.76]</td>\n",
       "      <td>[50.93, 26.32, 54.42]</td>\n",
       "      <td>[51.99, 38.46, 52.56]</td>\n",
       "      <td>[47.54, 27.27, 52.66]</td>\n",
       "      <td>[48.69, 63.16, 54.06]</td>\n",
       "    </tr>\n",
       "    <tr>\n",
       "      <th>Log Loss Test score</th>\n",
       "      <td>0.983078</td>\n",
       "      <td>0.991316</td>\n",
       "      <td>0.988228</td>\n",
       "      <td>0.984323</td>\n",
       "      <td>0.988379</td>\n",
       "      <td>0.977773</td>\n",
       "      <td>0.982167</td>\n",
       "      <td>0.984264</td>\n",
       "      <td>0.995339</td>\n",
       "      <td>0.982494</td>\n",
       "    </tr>\n",
       "    <tr>\n",
       "      <th>Log Loss Train score</th>\n",
       "      <td>0.97528</td>\n",
       "      <td>0.972501</td>\n",
       "      <td>0.97328</td>\n",
       "      <td>0.974673</td>\n",
       "      <td>0.973268</td>\n",
       "      <td>0.977233</td>\n",
       "      <td>0.975461</td>\n",
       "      <td>0.974884</td>\n",
       "      <td>0.970947</td>\n",
       "      <td>0.975408</td>\n",
       "    </tr>\n",
       "    <tr>\n",
       "      <th>Predictions</th>\n",
       "      <td>{-1: 858, 0: 13, 1: 2774}</td>\n",
       "      <td>{-1: 853, 0: 41, 1: 2751}</td>\n",
       "      <td>{-1: 914, 0: 26, 1: 2705}</td>\n",
       "      <td>{-1: 875, 0: 23, 1: 2747}</td>\n",
       "      <td>{-1: 879, 0: 9, 1: 2757}</td>\n",
       "      <td>{-1: 882, 0: 32, 1: 2731}</td>\n",
       "      <td>{-1: 917, 0: 38, 1: 2690}</td>\n",
       "      <td>{-1: 856, 0: 13, 1: 2776}</td>\n",
       "      <td>{-1: 913, 0: 22, 1: 2710}</td>\n",
       "      <td>{-1: 918, 0: 19, 1: 2708}</td>\n",
       "    </tr>\n",
       "  </tbody>\n",
       "</table>\n",
       "</div>"
      ],
      "text/plain": [
       "                                             1                          2                          3                          4                         5                          6                          7                          8                          9                          10\n",
       "Accuracy Test score                     52.8121                    51.7147                     51.989                    52.9492                   51.9067                    52.4005                     53.251                    52.3731                    51.2209                    52.7572\n",
       "Accuracy Train score                     53.165                    53.3571                    53.3022                    53.1101                   53.4852                    53.2748                    52.9455                    53.1193                    53.5035                    53.1833\n",
       "Correctness               [51.40, 53.85, 53.24]      [52.75, 31.71, 51.69]      [48.80, 34.62, 53.23]      [50.17, 39.13, 53.95]     [49.60, 33.33, 52.70]      [51.59, 43.75, 52.76]      [50.93, 26.32, 54.42]      [51.99, 38.46, 52.56]      [47.54, 27.27, 52.66]      [48.69, 63.16, 54.06]\n",
       "Log Loss Test score                    0.983078                   0.991316                   0.988228                   0.984323                  0.988379                   0.977773                   0.982167                   0.984264                   0.995339                   0.982494\n",
       "Log Loss Train score                    0.97528                   0.972501                    0.97328                   0.974673                  0.973268                   0.977233                   0.975461                   0.974884                   0.970947                   0.975408\n",
       "Predictions           {-1: 858, 0: 13, 1: 2774}  {-1: 853, 0: 41, 1: 2751}  {-1: 914, 0: 26, 1: 2705}  {-1: 875, 0: 23, 1: 2747}  {-1: 879, 0: 9, 1: 2757}  {-1: 882, 0: 32, 1: 2731}  {-1: 917, 0: 38, 1: 2690}  {-1: 856, 0: 13, 1: 2776}  {-1: 913, 0: 22, 1: 2710}  {-1: 918, 0: 19, 1: 2708}"
      ]
     },
     "metadata": {},
     "output_type": "display_data"
    },
    {
     "name": "stdout",
     "output_type": "stream",
     "text": [
      "Classifier: RandomForestClassifier(bootstrap=True, class_weight=None, criterion='gini',\n",
      "            max_depth=8, max_features='sqrt', max_leaf_nodes=None,\n",
      "            min_impurity_split=1e-07, min_samples_leaf=6,\n",
      "            min_samples_split=20, min_weight_fraction_leaf=0.0,\n",
      "            n_estimators=200, n_jobs=1, oob_score=False, random_state=1,\n",
      "            verbose=0, warm_start=False)\n",
      "Accuracy Test score     52.661180\n",
      "Accuracy Train score    55.351262\n",
      "Log Loss Test score      0.983512\n",
      "Log Loss Train score     0.910981\n",
      "dtype: float64\n"
     ]
    },
    {
     "data": {
      "text/html": [
       "<div>\n",
       "<table border=\"1\" class=\"dataframe\">\n",
       "  <thead>\n",
       "    <tr style=\"text-align: right;\">\n",
       "      <th></th>\n",
       "      <th>1</th>\n",
       "      <th>2</th>\n",
       "      <th>3</th>\n",
       "      <th>4</th>\n",
       "      <th>5</th>\n",
       "      <th>6</th>\n",
       "      <th>7</th>\n",
       "      <th>8</th>\n",
       "      <th>9</th>\n",
       "      <th>10</th>\n",
       "    </tr>\n",
       "  </thead>\n",
       "  <tbody>\n",
       "    <tr>\n",
       "      <th>Accuracy Test score</th>\n",
       "      <td>52.62</td>\n",
       "      <td>52.0165</td>\n",
       "      <td>52.3731</td>\n",
       "      <td>52.9492</td>\n",
       "      <td>51.9067</td>\n",
       "      <td>52.7023</td>\n",
       "      <td>53.6626</td>\n",
       "      <td>52.8121</td>\n",
       "      <td>51.6872</td>\n",
       "      <td>52.7572</td>\n",
       "    </tr>\n",
       "    <tr>\n",
       "      <th>Accuracy Train score</th>\n",
       "      <td>55.0768</td>\n",
       "      <td>56.0648</td>\n",
       "      <td>55.891</td>\n",
       "      <td>55.0677</td>\n",
       "      <td>55.8178</td>\n",
       "      <td>54.9854</td>\n",
       "      <td>55.3696</td>\n",
       "      <td>55.2598</td>\n",
       "      <td>55.9276</td>\n",
       "      <td>55.333</td>\n",
       "    </tr>\n",
       "    <tr>\n",
       "      <th>Correctness</th>\n",
       "      <td>[51.70, 0.00, 52.97]</td>\n",
       "      <td>[52.76, 33.33, 51.98]</td>\n",
       "      <td>[48.49, 45.83, 53.83]</td>\n",
       "      <td>[49.31, 28.57, 54.28]</td>\n",
       "      <td>[48.17, 28.57, 53.36]</td>\n",
       "      <td>[52.09, 37.50, 52.95]</td>\n",
       "      <td>[51.37, 40.00, 54.49]</td>\n",
       "      <td>[51.07, 42.86, 53.44]</td>\n",
       "      <td>[48.15, 28.57, 53.05]</td>\n",
       "      <td>[49.21, 30.77, 54.00]</td>\n",
       "    </tr>\n",
       "    <tr>\n",
       "      <th>Log Loss Test score</th>\n",
       "      <td>0.983703</td>\n",
       "      <td>0.990872</td>\n",
       "      <td>0.986447</td>\n",
       "      <td>0.983292</td>\n",
       "      <td>0.990934</td>\n",
       "      <td>0.976602</td>\n",
       "      <td>0.979795</td>\n",
       "      <td>0.983322</td>\n",
       "      <td>0.993816</td>\n",
       "      <td>0.983282</td>\n",
       "    </tr>\n",
       "    <tr>\n",
       "      <th>Log Loss Train score</th>\n",
       "      <td>0.911251</td>\n",
       "      <td>0.908008</td>\n",
       "      <td>0.909407</td>\n",
       "      <td>0.911439</td>\n",
       "      <td>0.909184</td>\n",
       "      <td>0.91351</td>\n",
       "      <td>0.912006</td>\n",
       "      <td>0.911501</td>\n",
       "      <td>0.907137</td>\n",
       "      <td>0.91071</td>\n",
       "    </tr>\n",
       "    <tr>\n",
       "      <th>Predictions</th>\n",
       "      <td>{-1: 851, 0: 4, 1: 2790}</td>\n",
       "      <td>{-1: 887, 0: 30, 1: 2728}</td>\n",
       "      <td>{-1: 959, 0: 24, 1: 2662}</td>\n",
       "      <td>{-1: 937, 0: 7, 1: 2701}</td>\n",
       "      <td>{-1: 955, 0: 14, 1: 2676}</td>\n",
       "      <td>{-1: 887, 0: 8, 1: 2750}</td>\n",
       "      <td>{-1: 946, 0: 5, 1: 2694}</td>\n",
       "      <td>{-1: 938, 0: 7, 1: 2700}</td>\n",
       "      <td>{-1: 945, 0: 14, 1: 2686}</td>\n",
       "      <td>{-1: 882, 0: 13, 1: 2750}</td>\n",
       "    </tr>\n",
       "  </tbody>\n",
       "</table>\n",
       "</div>"
      ],
      "text/plain": [
       "                                            1                          2                          3                         4                          5                         6                         7                         8                          9                          10\n",
       "Accuracy Test score                      52.62                    52.0165                    52.3731                   52.9492                    51.9067                   52.7023                   53.6626                   52.8121                    51.6872                    52.7572\n",
       "Accuracy Train score                   55.0768                    56.0648                     55.891                   55.0677                    55.8178                   54.9854                   55.3696                   55.2598                    55.9276                     55.333\n",
       "Correctness               [51.70, 0.00, 52.97]      [52.76, 33.33, 51.98]      [48.49, 45.83, 53.83]     [49.31, 28.57, 54.28]      [48.17, 28.57, 53.36]     [52.09, 37.50, 52.95]     [51.37, 40.00, 54.49]     [51.07, 42.86, 53.44]      [48.15, 28.57, 53.05]      [49.21, 30.77, 54.00]\n",
       "Log Loss Test score                   0.983703                   0.990872                   0.986447                  0.983292                   0.990934                  0.976602                  0.979795                  0.983322                   0.993816                   0.983282\n",
       "Log Loss Train score                  0.911251                   0.908008                   0.909407                  0.911439                   0.909184                   0.91351                  0.912006                  0.911501                   0.907137                    0.91071\n",
       "Predictions           {-1: 851, 0: 4, 1: 2790}  {-1: 887, 0: 30, 1: 2728}  {-1: 959, 0: 24, 1: 2662}  {-1: 937, 0: 7, 1: 2701}  {-1: 955, 0: 14, 1: 2676}  {-1: 887, 0: 8, 1: 2750}  {-1: 946, 0: 5, 1: 2694}  {-1: 938, 0: 7, 1: 2700}  {-1: 945, 0: 14, 1: 2686}  {-1: 882, 0: 13, 1: 2750}"
      ]
     },
     "metadata": {},
     "output_type": "display_data"
    },
    {
     "name": "stdout",
     "output_type": "stream",
     "text": [
      "Classifier: AdaBoostClassifier(algorithm='SAMME.R',\n",
      "          base_estimator=RandomForestClassifier(bootstrap=True, class_weight=None, criterion='gini',\n",
      "            max_depth=6, max_features='sqrt', max_leaf_nodes=None,\n",
      "            min_impurity_split=1e-07, min_samples_leaf=3,\n",
      "            min_samples_split=10, min_weight_fraction_leaf=0.0,\n",
      "            n_estimators=30, n_jobs=1, oob_score=False, random_state=1,\n",
      "            verbose=0, warm_start=False),\n",
      "          learning_rate=0.35, n_estimators=15, random_state=None)\n",
      "Accuracy Test score     52.633745\n",
      "Accuracy Train score    58.072631\n",
      "Log Loss Test score      1.047013\n",
      "Log Loss Train score     1.021361\n",
      "dtype: float64\n"
     ]
    },
    {
     "data": {
      "text/html": [
       "<div>\n",
       "<table border=\"1\" class=\"dataframe\">\n",
       "  <thead>\n",
       "    <tr style=\"text-align: right;\">\n",
       "      <th></th>\n",
       "      <th>1</th>\n",
       "      <th>2</th>\n",
       "      <th>3</th>\n",
       "      <th>4</th>\n",
       "      <th>5</th>\n",
       "      <th>6</th>\n",
       "      <th>7</th>\n",
       "      <th>8</th>\n",
       "      <th>9</th>\n",
       "      <th>10</th>\n",
       "    </tr>\n",
       "  </thead>\n",
       "  <tbody>\n",
       "    <tr>\n",
       "      <th>Accuracy Test score</th>\n",
       "      <td>52.5377</td>\n",
       "      <td>51.8793</td>\n",
       "      <td>51.8244</td>\n",
       "      <td>53.1139</td>\n",
       "      <td>51.8793</td>\n",
       "      <td>52.8395</td>\n",
       "      <td>53.3333</td>\n",
       "      <td>52.7298</td>\n",
       "      <td>51.6598</td>\n",
       "      <td>52.7846</td>\n",
       "    </tr>\n",
       "    <tr>\n",
       "      <th>Accuracy Train score</th>\n",
       "      <td>57.7205</td>\n",
       "      <td>58.3791</td>\n",
       "      <td>58.5529</td>\n",
       "      <td>58.0589</td>\n",
       "      <td>58.0864</td>\n",
       "      <td>58.1961</td>\n",
       "      <td>57.9949</td>\n",
       "      <td>57.7753</td>\n",
       "      <td>59.0377</td>\n",
       "      <td>57.8211</td>\n",
       "    </tr>\n",
       "    <tr>\n",
       "      <th>Correctness</th>\n",
       "      <td>[50.56, 35.71, 53.54]</td>\n",
       "      <td>[51.66, 34.38, 52.37]</td>\n",
       "      <td>[48.50, 30.10, 53.88]</td>\n",
       "      <td>[48.44, 45.90, 55.00]</td>\n",
       "      <td>[48.34, 38.71, 53.49]</td>\n",
       "      <td>[52.32, 32.81, 53.49]</td>\n",
       "      <td>[50.83, 31.58, 54.73]</td>\n",
       "      <td>[51.08, 33.33, 53.68]</td>\n",
       "      <td>[48.67, 31.34, 53.24]</td>\n",
       "      <td>[49.16, 29.73, 54.63]</td>\n",
       "    </tr>\n",
       "    <tr>\n",
       "      <th>Log Loss Test score</th>\n",
       "      <td>1.04775</td>\n",
       "      <td>1.04792</td>\n",
       "      <td>1.05005</td>\n",
       "      <td>1.04733</td>\n",
       "      <td>1.04557</td>\n",
       "      <td>1.04578</td>\n",
       "      <td>1.04626</td>\n",
       "      <td>1.04589</td>\n",
       "      <td>1.04977</td>\n",
       "      <td>1.04669</td>\n",
       "    </tr>\n",
       "    <tr>\n",
       "      <th>Log Loss Train score</th>\n",
       "      <td>1.02162</td>\n",
       "      <td>1.01948</td>\n",
       "      <td>1.02103</td>\n",
       "      <td>1.02133</td>\n",
       "      <td>1.01953</td>\n",
       "      <td>1.02352</td>\n",
       "      <td>1.02139</td>\n",
       "      <td>1.0215</td>\n",
       "      <td>1.01935</td>\n",
       "      <td>1.02164</td>\n",
       "    </tr>\n",
       "    <tr>\n",
       "      <th>Predictions</th>\n",
       "      <td>{-1: 888, 0: 56, 1: 2701}</td>\n",
       "      <td>{-1: 906, 0: 64, 1: 2675}</td>\n",
       "      <td>{-1: 936, 0: 103, 1: 2606}</td>\n",
       "      <td>{-1: 962, 0: 61, 1: 2622}</td>\n",
       "      <td>{-1: 964, 0: 62, 1: 2619}</td>\n",
       "      <td>{-1: 904, 0: 64, 1: 2677}</td>\n",
       "      <td>{-1: 966, 0: 57, 1: 2622}</td>\n",
       "      <td>{-1: 930, 0: 51, 1: 2664}</td>\n",
       "      <td>{-1: 943, 0: 67, 1: 2635}</td>\n",
       "      <td>{-1: 891, 0: 74, 1: 2680}</td>\n",
       "    </tr>\n",
       "  </tbody>\n",
       "</table>\n",
       "</div>"
      ],
      "text/plain": [
       "                                             1                          2                           3                          4                          5                          6                          7                          8                          9                          10\n",
       "Accuracy Test score                     52.5377                    51.8793                     51.8244                    53.1139                    51.8793                    52.8395                    53.3333                    52.7298                    51.6598                    52.7846\n",
       "Accuracy Train score                    57.7205                    58.3791                     58.5529                    58.0589                    58.0864                    58.1961                    57.9949                    57.7753                    59.0377                    57.8211\n",
       "Correctness               [50.56, 35.71, 53.54]      [51.66, 34.38, 52.37]       [48.50, 30.10, 53.88]      [48.44, 45.90, 55.00]      [48.34, 38.71, 53.49]      [52.32, 32.81, 53.49]      [50.83, 31.58, 54.73]      [51.08, 33.33, 53.68]      [48.67, 31.34, 53.24]      [49.16, 29.73, 54.63]\n",
       "Log Loss Test score                     1.04775                    1.04792                     1.05005                    1.04733                    1.04557                    1.04578                    1.04626                    1.04589                    1.04977                    1.04669\n",
       "Log Loss Train score                    1.02162                    1.01948                     1.02103                    1.02133                    1.01953                    1.02352                    1.02139                     1.0215                    1.01935                    1.02164\n",
       "Predictions           {-1: 888, 0: 56, 1: 2701}  {-1: 906, 0: 64, 1: 2675}  {-1: 936, 0: 103, 1: 2606}  {-1: 962, 0: 61, 1: 2622}  {-1: 964, 0: 62, 1: 2619}  {-1: 904, 0: 64, 1: 2677}  {-1: 966, 0: 57, 1: 2622}  {-1: 930, 0: 51, 1: 2664}  {-1: 943, 0: 67, 1: 2635}  {-1: 891, 0: 74, 1: 2680}"
      ]
     },
     "metadata": {},
     "output_type": "display_data"
    }
   ],
   "source": [
    "# Run prediction for many values of random_state, using median value to score classifiers\n",
    "rs = np.arange(10)+1\n",
    "for clf in classifiers:\n",
    "    results[clf.__class__.__name__] = {}\n",
    "    for r in rs:\n",
    "############ Break data into training and test: use XX.loc[:, XX.columns != 'outcome'] ##########\n",
    "############ if not scaling data, otherwise use XX_scaled                              ##########\n",
    "        train_mask, test_mask = train_test_split(range(XX_scaled.shape[0]), random_state=r)\n",
    "        train_mask.sort(); test_mask.sort()\n",
    "        Xlr = XX_scaled[train_mask,:]\n",
    "        Xtestlr = XX_scaled[test_mask,:]\n",
    "        ylr = XX['outcome'][train_mask]\n",
    "        ytestlr = XX['outcome'][test_mask]\n",
    "#         Xlr, Xtestlr, ylr, ytestlr = train_test_split(XX_scaled, XX['outcome'], random_state=r)\n",
    "        \n",
    "        # Fit the model\n",
    "        clf.fit(Xlr,ylr)\n",
    "        # Store predictions and probabilities on train and test sets\n",
    "        ytrain = clf.predict(Xlr)\n",
    "        prob_train = clf.predict_proba(Xlr)\n",
    "        ytest = clf.predict(Xtestlr)\n",
    "        prob_test = clf.predict_proba(Xtestlr)\n",
    "        \n",
    "        # Dictionaries to store number of and correctness of predictions by outcome\n",
    "        pred_dict = {}\n",
    "        corr_dict = {}\n",
    "        ns = np.unique(ytest, return_counts=True)\n",
    "        for k in range(len(ns[0])):\n",
    "            pred_dict[ns[0][k]] = ns[1][k]\n",
    "            corr_dict[ns[0][k]] = 100*(ytest[ytest == ns[0][k]] == ytestlr[ytest == ns[0][k]]).mean()\n",
    "            formatted = [format(num, '.2f') for num in corr_dict.values()]\n",
    "        # Store classifier's result by random_state value\n",
    "        results[clf.__class__.__name__][r] = {'Accuracy Train score': 100*accuracy_score(ytrain,ylr), \\\n",
    "                        'Accuracy Test score': 100*accuracy_score(ytest,ytestlr), \\\n",
    "                        'Log Loss Train score': log_loss(ylr, prob_train, labels=np.array([-1,0,1])), \\\n",
    "                        'Log Loss Test score': log_loss(ytestlr, prob_test, labels=np.array([-1,0,1])),\n",
    "                        'Predictions' : pred_dict,\\\n",
    "                        'Correctness' : formatted}\n",
    "\n",
    "    %precision 2\n",
    "    scores = pd.DataFrame(results[clf.__class__.__name__])\n",
    "    print('Classifier:',clf)\n",
    "    print(scores.loc[(scores.index != 'Predictions') & (scores.index != 'Correctness'),:].median(axis=1))\n",
    "    display(scores)"
   ]
  },
  {
   "cell_type": "code",
   "execution_count": 28,
   "metadata": {
    "collapsed": false
   },
   "outputs": [
    {
     "data": {
      "text/html": [
       "<div>\n",
       "<table border=\"1\" class=\"dataframe\">\n",
       "  <thead>\n",
       "    <tr style=\"text-align: right;\">\n",
       "      <th></th>\n",
       "      <th>LogisticRegressionCV</th>\n",
       "      <th>LogisticRegression</th>\n",
       "      <th>RandomForestClassifier</th>\n",
       "      <th>AdaBoostClassifier</th>\n",
       "    </tr>\n",
       "  </thead>\n",
       "  <tbody>\n",
       "    <tr>\n",
       "      <th>Accuracy Test score</th>\n",
       "      <td>52.551440</td>\n",
       "      <td>52.386831</td>\n",
       "      <td>52.661180</td>\n",
       "      <td>52.633745</td>\n",
       "    </tr>\n",
       "    <tr>\n",
       "      <th>Accuracy Train score</th>\n",
       "      <td>53.160446</td>\n",
       "      <td>53.229052</td>\n",
       "      <td>55.351262</td>\n",
       "      <td>58.072631</td>\n",
       "    </tr>\n",
       "    <tr>\n",
       "      <th>Log Loss Test score</th>\n",
       "      <td>0.984080</td>\n",
       "      <td>0.984294</td>\n",
       "      <td>0.983512</td>\n",
       "      <td>1.047013</td>\n",
       "    </tr>\n",
       "    <tr>\n",
       "      <th>Log Loss Train score</th>\n",
       "      <td>0.975789</td>\n",
       "      <td>0.974779</td>\n",
       "      <td>0.910981</td>\n",
       "      <td>1.021361</td>\n",
       "    </tr>\n",
       "  </tbody>\n",
       "</table>\n",
       "</div>"
      ],
      "text/plain": [
       "                      LogisticRegressionCV  LogisticRegression  RandomForestClassifier  AdaBoostClassifier\n",
       "Accuracy Test score              52.551440           52.386831               52.661180           52.633745\n",
       "Accuracy Train score             53.160446           53.229052               55.351262           58.072631\n",
       "Log Loss Test score               0.984080            0.984294                0.983512            1.047013\n",
       "Log Loss Train score              0.975789            0.974779                0.910981            1.021361"
      ]
     },
     "execution_count": 28,
     "metadata": {},
     "output_type": "execute_result"
    }
   ],
   "source": [
    "disp = pd.DataFrame()\n",
    "for clf in classifiers:\n",
    "    scores = pd.DataFrame(results[clf.__class__.__name__])\n",
    "    disp[clf.__class__.__name__] = scores.loc[(scores.index != 'Predictions') & (scores.index != 'Correctness'),:].median(axis=1)\n",
    "disp"
   ]
  },
  {
   "cell_type": "code",
   "execution_count": 29,
   "metadata": {
    "collapsed": false
   },
   "outputs": [
    {
     "data": {
      "image/png": "[encoded data removed]",
      "text/plain": [
       "<matplotlib.figure.Figure at 0x44ae58fa20>"
      ]
     },
     "metadata": {},
     "output_type": "display_data"
    }
   ],
   "source": [
    "# Plot of coefficients values for LogisticRegressionCV or LogisticRegression\n",
    "# Use LRCV or LR. Notice: uses last value of random_state above\n",
    "names=list(XX.columns)\n",
    "names.remove('outcome')\n",
    "\n",
    "# Choose classifier\n",
    "clf=LR\n",
    "clf.fit(Xlr,ylr)\n",
    "\n",
    "# Set plot\n",
    "pos=list(np.arange(len(names))+.5)\n",
    "val=clf.coef_[0]\n",
    "plt.figure(figsize=(10,10))\n",
    "plt.barh(pos,val, align='center')\n",
    "plt.yticks(pos, names)\n",
    "plt.title('Coefficients\\' values for Regression')\n",
    "plt.xlabel('Value')\n",
    "plt.show()"
   ]
  },
  {
   "cell_type": "code",
   "execution_count": 30,
   "metadata": {
    "collapsed": false
   },
   "outputs": [
    {
     "data": {
      "image/png": "[encoded data removed]",
      "text/plain": [
       "<matplotlib.figure.Figure at 0x44a6c0fc50>"
      ]
     },
     "metadata": {},
     "output_type": "display_data"
    }
   ],
   "source": [
    "# Plot of feature_importances_ for RandomForest or ADABoost\n",
    "# Use RF or AB. Notice: uses last value of random_state above\n",
    "names=list(XX.columns)\n",
    "names.remove('outcome')\n",
    "\n",
    "# Choose classifier\n",
    "clf=RF\n",
    "clf.fit(Xlr,ylr)\n",
    "\n",
    "# Set plot\n",
    "pos=list(np.arange(len(names))+.5)\n",
    "val=clf.feature_importances_\n",
    "# val.sort()\n",
    "# val=val[-len(names):]\n",
    "plt.figure(figsize=(10,10))\n",
    "plt.barh(pos,abs(val), align='center')\n",
    "plt.yticks(pos, names)\n",
    "plt.title('Feature Importances values for Random Forest')\n",
    "plt.xlabel('Importance')\n",
    "plt.show()"
   ]
  },
  {
   "cell_type": "code",
   "execution_count": 31,
   "metadata": {
    "collapsed": false
   },
   "outputs": [
    {
     "data": {
      "image/png": "[encoded data removed]",
      "text/plain": [
       "<matplotlib.figure.Figure at 0x44a75c9860>"
      ]
     },
     "metadata": {},
     "output_type": "display_data"
    }
   ],
   "source": [
    "# Plot Confusion Matrix for chosen classifier: LRCV, LR, RF, AB\n",
    "\n",
    "# Set classifier and train it\n",
    "clf=RF\n",
    "clf.fit(Xlr,ylr)\n",
    "\n",
    "# Compute confusion matrix\n",
    "cm = confusion_matrix(ytestlr, ytest)\n",
    "classes = ['Away win', 'Draw', 'Home win']\n",
    "\n",
    "# Set plot of confusion matrices, with counts and normalized\n",
    "sns.set_style(\"whitegrid\", {'axes.grid' : False})\n",
    "\n",
    "fig = plt.figure(figsize=(12,8))\n",
    "\n",
    "ax = fig.add_subplot(1,2,1)\n",
    "plot_confusion_matrix(cm, classes=classes, normalize=False, title='Counts')\n",
    "\n",
    "ax = fig.add_subplot(1,2,2)\n",
    "plot_confusion_matrix(cm, classes=classes, normalize=True, title='Normalized (%)')\n",
    "plt.tight_layout(pad=2)\n",
    "plt.suptitle('Confusion matrix for {0}'.format(clf.__class__.__name__),x=.5,y=.85, fontsize=15)\n",
    "# plt.savefig('confusion_matrix.png')\n",
    "plt.show()\n",
    "sns.set_style(\"whitegrid\", {'axes.grid' : True})"
   ]
  },
  {
   "cell_type": "markdown",
   "metadata": {},
   "source": [
    "## Calibration Plots"
   ]
  },
  {
   "cell_type": "code",
   "execution_count": 32,
   "metadata": {
    "collapsed": false
   },
   "outputs": [
    {
     "name": "stdout",
     "output_type": "stream",
     "text": [
      "Log loss score of:\n",
      "RandomForestClassifier trained on all training samples: 0.9833\n",
      "RandomForestClassifier trained on 75% of training samples and calibrated on other 25%: 0.9869\n",
      "\n",
      "Accuracy of RandomForestClassifier not calibrated: 52.78%\n",
      "Accuracy of RandomForestClassifier calibrated: 52.78%\n"
     ]
    }
   ],
   "source": [
    "# Split Xlr and ylr, the training sets, for calibration using *ratio* of the data\n",
    "ratio = .75\n",
    "trn_msk, vld_msk = train_test_split(train_mask, train_size=ratio, random_state=10)\n",
    "y_trn_msk, y_vld_msk = train_test_split(train_mask, train_size=ratio, random_state=10)\n",
    "# trn_msk.sort(); vld_msk.sort()\n",
    "X_train = XX_scaled[trn_msk,:]\n",
    "X_valid = XX_scaled[vld_msk,:]\n",
    "y_train = XX['outcome'][y_trn_msk]\n",
    "y_valid = XX['outcome'][y_vld_msk]\n",
    "# X_train, X_valid, y_train, y_valid = train_test_split(Xlr, ylr, train_size=ratio)\n",
    "\n",
    "# Train first classifier (LRCV, LR, RF, ABRF) on whole train and validation data \n",
    "# (Xlr, ylr) and evaluate on test data (Xtestlr, ytestlr). (for comparison)\n",
    "clf = RF\n",
    "\n",
    "clf.fit(Xlr, ylr)\n",
    "clf_probs = clf.predict_proba(Xtestlr)\n",
    "score = log_loss(ytestlr, clf_probs, labels=np.array([-1,0,1]))\n",
    "\n",
    "# Train second Classifier (LRCV, LR, RF, ABRF) on train data (X_train, y_train), calibrate on \n",
    "# validation data (X_valid, y_valid) and evaluate on test data (Xtestlr, ytestlr)\n",
    "clf2 = RF\n",
    "\n",
    "clf2.fit(X_train, y_train)\n",
    "sig_clf = CalibratedClassifierCV(clf2, method='sigmoid', cv='prefit')\n",
    "sig_clf.fit(X_valid, y_valid)\n",
    "sig_clf_probs = sig_clf.predict_proba(Xtestlr)\n",
    "sig_score = log_loss(ytestlr, sig_clf_probs, labels=np.array([-1,0,1]))\n",
    "\n",
    "print('Log loss score of:')\n",
    "print(clf.__class__.__name__, 'trained on all training samples: {0:.4f}'.format(score))\n",
    "print(clf2.__class__.__name__, 'trained on {0:d}% of training samples and calibrated on other {1:d}%: {2:.4f}'\\\n",
    "      .format(int(100*ratio), int(100*(1-ratio)), sig_score))\n",
    "\n",
    "clf_predict = clf.predict(Xtestlr)\n",
    "sig_clf_predict = sig_clf.predict(Xtestlr)\n",
    "\n",
    "print('\\nAccuracy of {0} not calibrated: {1:.2f}%'.format(clf.__class__.__name__, 100*accuracy_score(clf_predict, ytestlr)))\n",
    "print('Accuracy of {0} calibrated: {1:.2f}%'.format(clf2.__class__.__name__, 100*accuracy_score(sig_clf_predict, ytestlr)))"
   ]
  },
  {
   "cell_type": "code",
   "execution_count": 33,
   "metadata": {
    "collapsed": false
   },
   "outputs": [
    {
     "data": {
      "image/png": "[encoded data removed]",
      "text/plain": [
       "<matplotlib.figure.Figure at 0x44a72ce128>"
      ]
     },
     "metadata": {},
     "output_type": "display_data"
    },
    {
     "data": {
      "image/png": "[encoded data removed]",
      "text/plain": [
       "<matplotlib.figure.Figure at 0x44a738a080>"
      ]
     },
     "metadata": {},
     "output_type": "display_data"
    },
    {
     "data": {
      "image/png": "[encoded data removed]",
      "text/plain": [
       "<matplotlib.figure.Figure at 0x44a7af6be0>"
      ]
     },
     "metadata": {},
     "output_type": "display_data"
    }
   ],
   "source": [
    "# Calibration plots for uncalibrated and calibrated classifiers\n",
    "n=3\n",
    "for col in range(n):\n",
    "    calibration_plot_compare(clf, sig_clf, Xtestlr, ytestlr, col, n, save=False, file_suffix='RF')"
   ]
  },
  {
   "cell_type": "code",
   "execution_count": 34,
   "metadata": {
    "collapsed": false
   },
   "outputs": [],
   "source": [
    "# Build bookies dataframe with bookies probabilities extrapolated from average odds\n",
    "bookies = 1/betdf[['avgA','avgD','avgH']]\n",
    "bookies['sum'] = bookies.sum(1)\n",
    "for avg in avg_lst:\n",
    "    bookies[avg] = bookies[avg]/bookies['sum']\n",
    "bookies['sum'] = betdf['outcome']\n",
    "bookies.columns = ['probA','probD','probH','outcome']"
   ]
  },
  {
   "cell_type": "code",
   "execution_count": 35,
   "metadata": {
    "collapsed": false
   },
   "outputs": [
    {
     "name": "stdout",
     "output_type": "stream",
     "text": [
      "Accuracy score for bookies in 5 major leagues: 53.0218837895\n",
      "Accuracy score for bookies in test set: 52.7297668038\n"
     ]
    }
   ],
   "source": [
    "tmp={'H':1, 'D':0, 'A':-1}\n",
    "# Bookies accuracy score\n",
    "print('Accuracy score for bookies in 5 major leagues:', \\\n",
    "      100*(bookies.loc[:,['probA','probD','probH']].idxmax(1).str[-1:].map(tmp) == bookies['outcome']).mean())\n",
    "\n",
    "bookies = bookies.iloc[test_mask,:]\n",
    "print('Accuracy score for bookies in test set:', \\\n",
    "      100*(bookies.loc[:,['probA','probD','probH']].idxmax(1).str[-1:].map(tmp) == bookies['outcome']).mean())"
   ]
  },
  {
   "cell_type": "code",
   "execution_count": 36,
   "metadata": {
    "collapsed": false
   },
   "outputs": [
    {
     "data": {
      "image/png": "[encoded data removed]",
      "text/plain": [
       "<matplotlib.figure.Figure at 0x44a8a7beb8>"
      ]
     },
     "metadata": {},
     "output_type": "display_data"
    },
    {
     "data": {
      "image/png": "[encoded data removed]",
      "text/plain": [
       "<matplotlib.figure.Figure at 0x44a8a55cf8>"
      ]
     },
     "metadata": {},
     "output_type": "display_data"
    },
    {
     "data": {
      "image/png": "[encoded data removed]",
      "text/plain": [
       "<matplotlib.figure.Figure at 0x44a8446940>"
      ]
     },
     "metadata": {},
     "output_type": "display_data"
    }
   ],
   "source": [
    "# Calibration plots for bookies\n",
    "field = {-1:'away',0:'draw',1:'home'}\n",
    "n=3\n",
    "strings = ['probA','probD','probH']\n",
    "for col,string in zip(range(n),strings):\n",
    "    data = bookies[[string, 'outcome']]\n",
    "\n",
    "    # Group outcomes into bins of similar probability\n",
    "    bins = np.linspace(0, 1, 21)\n",
    "    cuts_bk = pd.cut(data[string], bins)\n",
    "    binwidth = bins[1] - bins[0]\n",
    "\n",
    "    # Compute empirical probability and count of examples in each bin \n",
    "    cal_bk = data.groupby(cuts_bk).outcome.apply(lambda group : get_stats(group, col, n)).unstack()\n",
    "    cal_bk['pmid'] = (bins[:-1] + bins[1:]) / 2\n",
    "    cal_bk['sig'] = np.sqrt(cal_bk.pmid * (1 - cal_bk.pmid) / cal_bk['count'])\n",
    "\n",
    "    # The calibration plot\n",
    "    plt.figure(figsize=(8,8))\n",
    "    ax = plt.subplot2grid((3, 1), (0, 0), rowspan=2)\n",
    "    p = plt.errorbar(cal_bk.pmid, cal_bk['mean'], cal_bk['sig'])\n",
    "    plt.plot(cal_bk.pmid, cal_bk.pmid, linestyle='--', lw=1, color='k')\n",
    "    plt.ylabel('Empirical P('+field[col-1]+')')\n",
    "    plt.title('Calibration Plot: '+field[col-1]+' for bookmakers', fontsize=14)\n",
    "\n",
    "    # The distribution of the probabilities\n",
    "    ax = plt.subplot2grid((3, 1), (2, 0), sharex=ax)\n",
    "    plt.bar(left=cal_bk.pmid, height=cal_bk['count'], width=.95 * (bins[1] - bins[0]), fc=p[0].get_color())\n",
    "    plt.xlabel('Predicted P('+field[col-1]+')')\n",
    "    plt.ylabel(\"Number\")\n",
    "#     plt.savefig(field[col-1]+'_cali_bookie.png')\n",
    "    plt.show()"
   ]
  },
  {
   "cell_type": "markdown",
   "metadata": {},
   "source": [
    "## Test models by looking at their actual ROI value"
   ]
  },
  {
   "cell_type": "code",
   "execution_count": 37,
   "metadata": {
    "collapsed": false
   },
   "outputs": [],
   "source": [
    "# Setup dfout datframe with relevant data from betdf dataframe\n",
    "# Select columns with odds data from match_data \n",
    "select=[7,8,9,11]\n",
    "# Add these columns if computing max/min of odds\n",
    "# for i in range(85,115,3):\n",
    "#     select.append(i)\n",
    "# for i in range(86,115,3):\n",
    "#     select.append(i)\n",
    "# for i in range(87,115,3):\n",
    "#     select.append(i)\n",
    "# Use only test data rows, and columns with bookies average odds\n",
    "dfout = betdf.iloc[test_mask,select]"
   ]
  },
  {
   "cell_type": "code",
   "execution_count": 38,
   "metadata": {
    "collapsed": false
   },
   "outputs": [],
   "source": [
    "# Select classifier, compute predicted probabilities\n",
    "clf = LR\n",
    "clf.fit(Xlr,ylr)\n",
    "\n",
    "tmp = clf.predict_proba(XX_scaled[test_mask])\n",
    "tmpdf = pd.DataFrame(tmp)\n",
    "tmpdf.index = dfout.index  # match index with betdf index"
   ]
  },
  {
   "cell_type": "code",
   "execution_count": 41,
   "metadata": {
    "collapsed": false
   },
   "outputs": [
    {
     "name": "stdout",
     "output_type": "stream",
     "text": [
      "With balanced bets, bookies' commission is: 6.11%\n",
      "With balanced bets, model's commission is: 6.11%\n"
     ]
    }
   ],
   "source": [
    "# Compute commission for $10 bet assuming bookies odds are balanced, that is: payouts \n",
    "# are the same regardless of outcome when using bookies' average as odds  \n",
    "bkmkrs = 1/dfout[['avgA','avgD','avgH']]\n",
    "bkmkrs['sum'] = bkmkrs.sum(1)\n",
    "for avg in avg_lst:\n",
    "    # bkmkrs[avg] holds portion of $10 played on outcome\n",
    "    bkmkrs[avg] = 10*bkmkrs[avg]/bkmkrs['sum']\n",
    "    dfout['am_'+avg] = bkmkrs[avg]\n",
    "dfout['bk_comm'] = round(10 - dfout['avgH']*bkmkrs['avgH'] ,2) \n",
    "\n",
    "# Compute bookies' average commission as percentage of bet\n",
    "bk_comm = (dfout['bk_comm'].sum())/(10*dfout.shape[0])\n",
    "print(\"With balanced bets, bookies' commission is: {0:.2f}%\".format(100*bk_comm))\n",
    "\n",
    "# Compute probabilities of model\n",
    "letters = ['A','D','H']\n",
    "for i,letter in enumerate(letters):\n",
    "    dfout['prob'+letter] = round(tmpdf[i],4)\n",
    "# Compute odds setting reduction to match 6.11% bookies commission\n",
    "# reduction = .0959  # For ABRF\n",
    "# reduction = .1142  # For calibrated ABRF\n",
    "reduction = .1135   # For LR & RF\n",
    "for i,letter in enumerate(letters):\n",
    "    dfout['pred'+letter] = 1+(1/tmpdf[i]-1)*(1-reduction)\n",
    "\n",
    "# Compute commission for $10 bet divided assuming model odds are balanced  \n",
    "dfout['model_comm'] = round(10-10*dfout['probH']*dfout['predH'],2)\n",
    "\n",
    "# Compute model's average commission as percentage of bet\n",
    "model_comm = (dfout['model_comm'].sum())/(10*dfout.shape[0])\n",
    "print(\"With balanced bets, model's commission is: {0:.2f}%\".format(100*model_comm))"
   ]
  },
  {
   "cell_type": "code",
   "execution_count": 42,
   "metadata": {
    "collapsed": false
   },
   "outputs": [],
   "source": [
    "# Compare actual return of model versus actual return of bookies on all games. \n",
    "# Must set min # of games and step size. Results are stored in gd dataframe\n",
    "mingames=50\n",
    "maxgames = dfout.shape[0]\n",
    "step = 50\n",
    "gameslst=list(range(mingames,maxgames,step))\n",
    "gameslst.append(maxgames-1)\n",
    "gamesdict = {}\n",
    "tmpdict={1:'H',0:'D',-1:'A'}\n",
    "# Variables to store (progressively) total ROI\n",
    "bk_total = 0\n",
    "model_total = 0\n",
    "# Variables to store last slice of games added\n",
    "games_first = 0\n",
    "for games in gameslst:\n",
    "#     # Select only new games to add\n",
    "    newdf = dfout[games_first:games]\n",
    "#     # Update games_first\n",
    "    games_first = games\n",
    "#     # Check predicted strategy with actual outcomes\n",
    "    newdf['outcome'] = betdf['outcome'].map(tmpdict)\n",
    "    for ind,row in newdf.iterrows():\n",
    "        # Amount bet is average of balanced bookies and balanced model amounts\n",
    "        bk_total += 10 - 0.5*(row['am_avg'+row['outcome']]+10*row['prob'+row['outcome']])*row['avg'+row['outcome']]\n",
    "        model_total += 10 - 0.5*(row['am_avg'+row['outcome']]+10*row['prob'+row['outcome']])*row['pred'+row['outcome']]\n",
    "    # Store ROI results\n",
    "    gamesdict[games]=[10*games, round(model_total,2), round(100*(model_total/(10*games)),2), \\\n",
    "                      round(bk_total,2), round(100*(bk_total/(10*games)),2)]\n",
    "# Convert to dataframe for plotting\n",
    "gd = pd.DataFrame.from_dict(gamesdict, orient='index')\n",
    "gd.columns = ['Invested', 'Model return', 'Model ROI', 'Bookies return', 'Bookies ROI']"
   ]
  },
  {
   "cell_type": "code",
   "execution_count": 43,
   "metadata": {
    "collapsed": false
   },
   "outputs": [
    {
     "data": {
      "image/png": "[encoded data removed]",
      "text/plain": [
       "<matplotlib.figure.Figure at 0x44a66a6978>"
      ]
     },
     "metadata": {},
     "output_type": "display_data"
    }
   ],
   "source": [
    "# Setup scatterplot\n",
    "plt.figure(figsize=(16,6))\n",
    "plt.scatter(list(gd.index),gd['Model ROI'],c='blue', alpha=.5)  \n",
    "plt.scatter(list(gd.index),gd['Bookies ROI'],c='red', alpha=.5) \n",
    "# Annotate plot with last average ROI\n",
    "for ind,row in (gd[-1:]).iterrows():\n",
    "    plt.text(x=row['Invested']/10+1, y=row['Model ROI']+.1, s=str('({0:d},{1:.2f})'\\\n",
    "                                                        .format(int(row['Invested']/10+1),row['Model ROI'])))\n",
    "    plt.text(x=row['Invested']/10+1, y=row['Bookies ROI']-.1, s=str('({0:d},{1:.2f})'\\\n",
    "                                                        .format(int(row['Invested']/10+1),row['Bookies ROI'])))\n",
    "plt.title('Comparison of '+clf.__class__.__name__+' ROI vs Bookies ROI', fontsize=14)\n",
    "plt.legend()\n",
    "plt.xlabel('Games')\n",
    "plt.ylabel('ROI (%)')\n",
    "# Fix ylim to compare plots of different classifiers\n",
    "plt.ylim(0,8)#max(gd['Model ROI'].max(),gd['Bookies ROI'].max())+.5)\n",
    "# plt.savefig('LR_ROI.png')\n",
    "plt.show()"
   ]
  },
  {
   "cell_type": "code",
   "execution_count": null,
   "metadata": {
    "collapsed": false
   },
   "outputs": [],
   "source": []
  },
  {
   "cell_type": "code",
   "execution_count": null,
   "metadata": {
    "collapsed": true
   },
   "outputs": [],
   "source": []
  },
  {
   "cell_type": "markdown",
   "metadata": {
    "collapsed": true
   },
   "source": [
    "# Code for testing, old versions, other attempts"
   ]
  },
  {
   "cell_type": "markdown",
   "metadata": {},
   "source": [
    "### Look into predictions types and accuracy"
   ]
  },
  {
   "cell_type": "code",
   "execution_count": null,
   "metadata": {
    "collapsed": false
   },
   "outputs": [],
   "source": [
    "# # Using train data to find best values for modification: limit and eps\n",
    "# # limit is threshold for min(predict_proba) above which we set label = 0\n",
    "# # Idea: if all probabilities are close we predict match is a Draw\n",
    "# ypred_proba=model.predict_proba(Xlr)\n",
    "# limit = np.linspace(0.305,0.320,16)\n",
    "# # eps is subbed from limit to change some home win predictions into draw predictions \n",
    "# eps = np.linspace(0.000,0.010,11)\n",
    "# mod_rslt = {}\n",
    "# for ep in eps:\n",
    "#     mod_rslt[ep]={}\n",
    "#     for val in limit:\n",
    "#         ymod = ytrain.copy()\n",
    "#         for i,row in enumerate(ypred_proba):\n",
    "#             if min(row) >= val:\n",
    "#                 ymod[i] = 0\n",
    "#             elif (min(row) >= val-ep) and (max(row) == row[0]):\n",
    "#                 ymod[i] = 0\n",
    "#         mod_rslt[ep][val] = (ymod==ylr).mean()\n",
    "# mod_rsltdf = pd.DataFrame.from_dict(mod_rslt, orient='index')\n",
    "# print('Best model prediction (on training set) is now: {}'.format(mod_rsltdf.max(axis=1).max()))"
   ]
  },
  {
   "cell_type": "code",
   "execution_count": null,
   "metadata": {
    "collapsed": false
   },
   "outputs": [],
   "source": [
    "# Xcoord, Ycoord  = np.meshgrid(mod_rsltdf.index, mod_rsltdf.columns.values)\n",
    "# zs = np.array([mod_rsltdf[y][x] for x,y in zip(np.ravel(Xcoord), np.ravel(Ycoord))])\n",
    "# Zcoord = zs.reshape(Xcoord.shape)\n",
    "\n",
    "# fig = plt.figure()\n",
    "# ax = Axes3D(fig)\n",
    "# surf = ax.plot_surface(Xcoord, Ycoord, Zcoord, cmap='GnBu')#, linewidth=0, antialiased=False)  #rstride=1, cstride=1,\n",
    "# plt.show()"
   ]
  },
  {
   "cell_type": "code",
   "execution_count": null,
   "metadata": {
    "collapsed": false
   },
   "outputs": [],
   "source": [
    "# indmax = mod_rsltdf.max(axis=1).idxmax(1)\n",
    "# colmax = mod_rsltdf.max(axis=0).idxmax(1)\n",
    "# print('max = ',mod_rsltdf.max(0).max(), 'indmax = ',indmax, 'colmax = ', colmax)\n",
    "# # print((ymod==ytestlr).mean())"
   ]
  },
  {
   "cell_type": "code",
   "execution_count": null,
   "metadata": {
    "collapsed": false
   },
   "outputs": [],
   "source": [
    "# ypred_proba=model.predict_proba(Xtestlr)\n",
    "# ypred_proba.shape\n",
    "# ymod = ytest.copy()\n",
    "# w=.3\n",
    "# # colmax, indmax = .320, .002\n",
    "# xs = np.arange(3)-1\n",
    "# ysb = [list(ytest).count(lab) for lab in xs]\n",
    "# plt.bar(xs,ysb,width=w, label='before')\n",
    "# for i,row in enumerate(ypred_proba):\n",
    "#     if min(row) >= colmax:\n",
    "#         ymod[i] = 0\n",
    "#     elif (min(row) >= colmax-indmax) and (max(row) == row[0]):\n",
    "#         ymod[i] = 1\n",
    "# ysa = [list(ymod).count(lab) for lab in xs]\n",
    "# plt.bar(xs+w,ysa,width=w, label='after')\n",
    "# plt.legend()\n",
    "# plt.show()"
   ]
  },
  {
   "cell_type": "code",
   "execution_count": null,
   "metadata": {
    "collapsed": false
   },
   "outputs": [],
   "source": [
    "# # checking what type of predictions (H-D-A) are made in test set\n",
    "# labels = [1,0,-1]\n",
    "# rslts = ['HOME WIN','DRAW','AWAY WIN']\n",
    "\n",
    "# for label,res in zip(labels,rslts):\n",
    "#     Xcheck = XX[XX['outcome']==label]\n",
    "#     pred = ytest[ytest==label].shape[0] # ytrain[ytrain==label].shape[0]+\n",
    "#     print('{0} is the result of {1:.2f}% of the games'.format(res, 100*Xcheck.shape[0]/X.shape[0]), \n",
    "#           'and is predicted {0:.2f}% of the times.'.format(100*pred/Xtestlr.shape[0]))\n",
    "#     # checking modified vector\n",
    "#     predmod = ymod[ymod==label].shape[0] # ytrain[ytrain==label].shape[0]+\n",
    "#     print('{0} is the result of {1:.2f}% of the games'.format(res, 100*Xcheck.shape[0]/X.shape[0]), \n",
    "#           'and after modifying is predicted {0:.2f}% of the times.'.format(100*predmod/Xtestlr.shape[0]))\n",
    "   \n",
    "# # checking how many predictions are correct by predicted outcome in test set\n",
    "# for label,res in zip(labels,rslts):\n",
    "#     pred = ((ytestlr==ytest) & (ytest == label)).sum() / (ytest == label).sum()\n",
    "#     print('\\nThere were {} {} predictions.'.format((ytest == label).sum(), res))\n",
    "#     print('{0} predictions are correct {1:.2f}% of the times.'.format(res, 100*pred)) \n",
    "#     # checking as well with modified values\n",
    "#     predmod = ((ytestlr==ymod) & (ymod == label)).sum() / (ymod == label).sum()\n",
    "#     print('\\nAfter modifying there were {} {} predictions.'.format((ymod == label).sum(), res))\n",
    "#     print('{0} predictions are correct {1:.2f}% of the times.'.format(res, 100*predmod)) \n",
    "    \n",
    "# print('\\nBefore modifying model score was {}'.format((ytestlr == ytest).mean()))\n",
    "# print('After modifying model score was {}'.format((ytestlr == ymod).mean()))"
   ]
  },
  {
   "cell_type": "markdown",
   "metadata": {},
   "source": [
    "## Features building\n",
    "The space below contains code for features under testing. Once the code works it is moved higher (as function) and the call to it happens in **Building X Dataframe for Prediction** section."
   ]
  },
  {
   "cell_type": "code",
   "execution_count": null,
   "metadata": {
    "collapsed": false
   },
   "outputs": [],
   "source": [
    "# # Prepare Xtry dataframe for two rounds predictions: first we predict whether Home Win or not,\n",
    "# # then on matches not predicted as home win we run regular multinomial classifier to predict\n",
    "# # Home win, Draw or Away win.\n",
    "# Xtry = X.loc[:,(X.columns != 'season') & (X.columns != 'league_id')]\n",
    "# Xtry['outcome2'] = (Xtry['outcome'] == 1)*1\n",
    "# Xtry_scaled = preprocessing.scale(Xtry.loc[:, (Xtry.columns != 'outcome2') & (Xtry.columns != 'outcome')])"
   ]
  },
  {
   "cell_type": "markdown",
   "metadata": {},
   "source": [
    "#### Training on full training set"
   ]
  },
  {
   "cell_type": "code",
   "execution_count": null,
   "metadata": {
    "collapsed": false
   },
   "outputs": [],
   "source": [
    "# rs = np.arange(10)+1\n",
    "# try_res = {}\n",
    "# res2 = {}\n",
    "# for r in rs:\n",
    "#     Xtry_train, Xtry_test, ytry_train, ytry_test = train_test_split(Xtry_scaled, Xtry['outcome2'], random_state=r)\n",
    "#     X2_train, X2_test, y2_train, y2_test = train_test_split(Xtry_scaled, Xtry['outcome'], random_state=r)\n",
    "# ###### Train classifier on [0,1] outcomes from Xtry ######\n",
    "#     clftry = LogisticRegression(C=0.01, solver='sag')\n",
    "# #     clftry = RandomForestClassifier(n_estimators=50, max_depth=6, max_features='sqrt')\n",
    "#     clftry.fit(Xtry_train,ytry_train)\n",
    "\n",
    "# ###### Train classifier on [-1,0,1] outcomes from X2 ######\n",
    "#     clf2 = LogisticRegression(C=0.01, solver='sag', class_weight={-1:1.5,0:1.25,1:1})    \n",
    "# #     clf2 = RandomForestClassifier(n_estimators=50, max_depth=6, max_features='sqrt', class_weight={-1:1,0:.8,1:1.25})\n",
    "#     clf2.fit(X2_train,y2_train)\n",
    "    \n",
    "# ###### Predict labels on train and test set with clftry ######\n",
    "#     try_pred_train = clftry.predict(Xtry_train)\n",
    "#     try_pred_test = clftry.predict(Xtry_test)\n",
    "#     # Store scores\n",
    "#     try_res[r] = {'Train score': 100*accuracy_score(try_pred_train,ytry_train), \\\n",
    "#                   'Test score': 100*accuracy_score(try_pred_test,ytry_test)}\n",
    "\n",
    "# ###### Predict labels on train and test set with clf2 \n",
    "#     pred2_train = clf2.predict(X2_train)\n",
    "#     pred2_test = clf2.predict(X2_test)\n",
    "#     # Store scores \n",
    "#     res2[r] = {'Train score': 100*accuracy_score(pred2_train,y2_train), 'Test score': 100*accuracy_score(pred2_test,y2_test)}"
   ]
  },
  {
   "cell_type": "markdown",
   "metadata": {},
   "source": [
    "#### Training on Not Home Win predictions"
   ]
  },
  {
   "cell_type": "code",
   "execution_count": null,
   "metadata": {
    "collapsed": false
   },
   "outputs": [],
   "source": [
    "# rs = np.arange(10)+1\n",
    "# try_res = {}\n",
    "# res2 = {}\n",
    "# for r in rs:\n",
    "#     Xtry_train, Xtry_test, ytry_train, ytry_test = train_test_split(Xtry_scaled, Xtry['outcome2'], random_state=r)\n",
    "#     X2_train, X2_test, y2_train, y2_test = train_test_split(Xtry_scaled, Xtry['outcome'], random_state=r)\n",
    "\n",
    "# ###### Train classifier on [0,1] outcomes from Xtry ######\n",
    "# #     clftry = LogisticRegression(C=0.01, solver='sag')\n",
    "#     clftry = RandomForestClassifier(n_estimators=30, max_depth=6, max_features='sqrt')\n",
    "#     clftry.fit(Xtry_train,ytry_train)\n",
    "    \n",
    "# ###### Predict labels on train and test set with clftry ######\n",
    "#     try_pred_train = clftry.predict(Xtry_train)\n",
    "#     try_pred_test = clftry.predict(Xtry_test)\n",
    "#     try_res[r] = {'Train score': 100*accuracy_score(try_pred_train,ytry_train), \\\n",
    "#                   'Test score': 100*accuracy_score(try_pred_test,ytry_test)}\n",
    "\n",
    "# ###################################################################\n",
    "# #### Train second classifier on Not Home Win training samples\n",
    "# #     clf2 = LogisticRegression(C=0.01, solver='sag', class_weight={-1:1,0:1.1,1:1.1})    \n",
    "#     clf2 = RandomForestClassifier(n_estimators=30, max_depth=6, max_features='sqrt', class_weight={-1:1,0:.8,1:.85})\n",
    "\n",
    "#     d_f = pd.DataFrame(try_pred_train, columns=['pred'])\n",
    "#     indexes=d_f[d_f.pred==0].index.values\n",
    "#     ytrue_train = (y2_train.reset_index(drop=True))[indexes]\n",
    "#     clf2.fit(Xtry_train[try_pred_train==0],ytrue_train)\n",
    "# ###################################################################\n",
    "\n",
    "# ###### Predict labels on train and test set with clf2 \n",
    "#     pred2_train = clf2.predict(Xtry_train[try_pred_train==0])\n",
    "#     pred2_test = clf2.predict(X2_test)\n",
    "#     res2[r] = {'Train score': 100*accuracy_score(pred2_train,ytrue_train), 'Test score': 100*accuracy_score(pred2_test,y2_test)}"
   ]
  },
  {
   "cell_type": "markdown",
   "metadata": {},
   "source": [
    "#### Common code to test results"
   ]
  },
  {
   "cell_type": "code",
   "execution_count": null,
   "metadata": {
    "collapsed": false
   },
   "outputs": [],
   "source": [
    "# try_scores = pd.DataFrame(try_res)\n",
    "# print(try_scores.median(axis=1))\n",
    "# try_scores"
   ]
  },
  {
   "cell_type": "code",
   "execution_count": null,
   "metadata": {
    "collapsed": false
   },
   "outputs": [],
   "source": [
    "# # Check type of predictions on last run\n",
    "# print('{0:3d} Home Win predictions: {1:.2f}% correct.'.format(np.unique(try_pred_test, return_counts=True)[1][1],\\\n",
    "#                                     100*(try_pred_test[try_pred_test == 1] == ytry_test[try_pred_test == 1]).mean()))\n",
    "# print('{0:3d} Other predictions: {1:.2f}% correct.'.format(np.unique(try_pred_test, return_counts=True)[1][0], \\\n",
    "#                                     100*(try_pred_test[try_pred_test == 0] == ytry_test[try_pred_test == 0]).mean()))"
   ]
  },
  {
   "cell_type": "code",
   "execution_count": null,
   "metadata": {
    "collapsed": false
   },
   "outputs": [],
   "source": [
    "# # Just checking overfit here real numbers below\n",
    "# scores2 = pd.DataFrame(res2)\n",
    "# print(scores2.median(axis=1))\n",
    "# # Check type of predictions on last run\n",
    "# print('\\nIn the last run:')\n",
    "# print('There were {0:3d} Home Win predictions. {1:.2f}% were correct.'.format(np.unique(pred2_test, return_counts=True)[1][2], \\\n",
    "#                                              100*(pred2_test[pred2_test == 1] == y2_test[pred2_test == 1]).mean()))\n",
    "# print('There were {0:3d} Draw predictions. {1:.2f}% were correct.'.format(np.unique(pred2_test, return_counts=True)[1][1], \\\n",
    "#                                             100*(pred2_test[pred2_test == 0] == y2_test[pred2_test == 0]).mean()))\n",
    "# print('There were {0:3d} Away Win predictions. {1:.2f}% were correct.'.format(np.unique(pred2_test, return_counts=True)[1][0], \\\n",
    "#                                             100*(pred2_test[pred2_test == -1] == y2_test[pred2_test == -1]).mean()))\n",
    "# scores2"
   ]
  },
  {
   "cell_type": "code",
   "execution_count": null,
   "metadata": {
    "collapsed": false
   },
   "outputs": [],
   "source": [
    "# ###### Actual number of correct predictions! ######\n",
    "# clf_test = clftry.predict(Xtry_test)\n",
    "# lab1 = (clf_test == 1).sum()\n",
    "# lab2 = clf_test.shape[0] - lab1\n",
    "# secondround = clf2.predict(Xtry_test[clf_test==0])\n",
    "# cf = pd.DataFrame(clf_test, columns=['pred'])\n",
    "# indexes=cf[cf.pred==0].index.values\n",
    "# yy = y2_test.reset_index(drop=True)\n",
    "# ysecond = yy[indexes]\n",
    "\n",
    "# acc1 = accuracy_score(clf_test[clf_test == 1],ytry_test[clf_test == 1])\n",
    "# print('Accuracy on Home Win/Not Home Win: {0:.2f}'.format(100*acc1))\n",
    "# acc2 = accuracy_score(secondround,ysecond)\n",
    "# print('Accuracy on Home/Draw/Away for Not Home Win predictions: {0:.2f}'.format(100*acc2))\n",
    "# accscore = (lab1*acc1 + lab2*acc2)/clf_test.shape[0]\n",
    "# print('Method accuracy score: {0:.2f}%'.format(100*accscore))"
   ]
  },
  {
   "cell_type": "code",
   "execution_count": null,
   "metadata": {
    "collapsed": false
   },
   "outputs": [],
   "source": [
    "# # Check type of predictions on last run\n",
    "# print('There were {0:3d} Home Win predictions. {1:.2f}% were correct.'.format(np.unique(secondround, return_counts=True)[1][2], \\\n",
    "#                                              100*(secondround[secondround == 1] == ysecond[secondround == 1]).mean()))\n",
    "# print('There were {0:3d} Draw predictions. {1:.2f}% were correct.'.format(np.unique(secondround, return_counts=True)[1][1], \\\n",
    "#                                             100*(secondround[secondround == 0] == ysecond[secondround == 0]).mean()))\n",
    "# print('There were {0:3d} Away Win predictions. {1:.2f}% were correct.'.format(np.unique(secondround, return_counts=True)[1][0], \\\n",
    "#                                             100*(secondround[secondround == -1] == ysecond[secondround == -1]).mean()))"
   ]
  },
  {
   "cell_type": "code",
   "execution_count": null,
   "metadata": {
    "collapsed": false
   },
   "outputs": [],
   "source": [
    "# n=2\n",
    "# for col in range(n):\n",
    "#     calibration_plot(clftry, Xtry_train, ytry_train, col, n)"
   ]
  },
  {
   "cell_type": "code",
   "execution_count": null,
   "metadata": {
    "collapsed": false
   },
   "outputs": [],
   "source": [
    "# probs = clftry.predict_proba(Xtry_train)\n",
    "# # print('minimum probs are: ',probs[:,0].min(),probs[:,1].min())\n",
    "# # print('to avoid negative must be > than',1/16)\n",
    "# probs = (9/8)*probs-(1/16)\n",
    "# # print('minimum probs are: ',probs[:,0].min(),probs[:,1].min())\n",
    "# caldf = pd.DataFrame(probs)\n",
    "# caldf['outcome'] = ytry_train.reset_index(drop=True)"
   ]
  },
  {
   "cell_type": "code",
   "execution_count": null,
   "metadata": {
    "collapsed": false
   },
   "outputs": [],
   "source": [
    "# n= 2\n",
    "# for col in range(n):\n",
    "#     data = caldf[[col, 'outcome']]\n",
    "\n",
    "#     # Group outcomes into bins of similar probability\n",
    "#     bins = np.linspace(0, 1, 21)\n",
    "#     cuts_bk = pd.cut(data[col], bins)\n",
    "#     binwidth = bins[1] - bins[0]\n",
    "\n",
    "#     # Compute empirical probability and count of examples in each bin \n",
    "#     cal_bk = data.groupby(cuts_bk).outcome.apply(lambda group : get_stats(group, col, n)).unstack()\n",
    "#     cal_bk['pmid'] = (bins[:-1] + bins[1:]) / 2\n",
    "#     cal_bk['sig'] = np.sqrt(cal_bk.pmid * (1 - cal_bk.pmid) / cal_bk['count'])\n",
    "\n",
    "#     # The calibration plot\n",
    "#     plt.figure(figsize=(12,8))\n",
    "#     ax = plt.subplot2grid((3, 1), (0, 0), rowspan=2)\n",
    "#     p = plt.errorbar(cal_bk.pmid, cal_bk['mean'], cal_bk['sig'])\n",
    "#     plt.plot(cal_bk.pmid, cal_bk.pmid, linestyle='--', lw=1, color='k')\n",
    "#     plt.ylabel('Empirical P({0:d})'.format(col))\n",
    "\n",
    "#     # The distribution of the probabilities\n",
    "#     ax = plt.subplot2grid((3, 1), (2, 0), sharex=ax)\n",
    "#     plt.bar(left=cal_bk.pmid - binwidth / 2, height=cal_bk['count'], width=.95 * (bins[1] - bins[0]), fc=p[0].get_color())\n",
    "#     plt.xlabel('Predicted P({0:d})'.format(col))\n",
    "#     plt.ylabel(\"Number\")\n",
    "#     plt.show()"
   ]
  },
  {
   "cell_type": "code",
   "execution_count": null,
   "metadata": {
    "collapsed": false
   },
   "outputs": [],
   "source": [
    "# np.unique(clf2.predict(X2_train), return_counts=True)"
   ]
  },
  {
   "cell_type": "code",
   "execution_count": null,
   "metadata": {
    "collapsed": false
   },
   "outputs": [],
   "source": [
    "# n=3\n",
    "# for col in range(n):\n",
    "#     calibration_plot(clf2, X2_train, y2_train, col, n)"
   ]
  },
  {
   "cell_type": "code",
   "execution_count": null,
   "metadata": {
    "collapsed": false
   },
   "outputs": [],
   "source": [
    "# probs = clf2.predict_proba(X2_train)\n",
    "# # probs = (9/8)*probs-(1/16)\n",
    "# caldf = pd.DataFrame(probs)\n",
    "# caldf.iloc[:,0] = caldf.iloc[:,0]+(caldf.iloc[:,0]>.6)*.10+(caldf.iloc[:,0]>.7)*.10+(caldf.iloc[:,0]>.8)*.10\n",
    "# caldf.iloc[:,1] = caldf.iloc[:,1]+(caldf.iloc[:,0]>.2)*.06\n",
    "# caldf.iloc[:,2] = caldf.iloc[:,2]-(caldf.iloc[:,2]<.75)*.08\n",
    "# caldf.loc[caldf.iloc[:,2] <1/40,2] = 1/40\n",
    "# caldf['sum'] = caldf.sum(1)\n",
    "# for i in range(3):\n",
    "#     caldf.iloc[:,i] = caldf.iloc[:,i]/caldf['sum']\n",
    "# del caldf['sum']\n",
    "# caldf['outcome'] = y2_train.reset_index(drop=True)\n",
    "# # caldf['prediction'] = clf2.predict(X2_train)\n",
    "# # caldf['argmax_probs'] = probs.argmax(1)-1\n",
    "# # caldf['argmax_mod_probs'] = caldf.iloc[:,:3].idxmax(1)-1\n",
    "# # print((caldf['argmax_mod_probs'] == caldf['argmax_probs']).mean())\n",
    "# caldf.head(3)"
   ]
  },
  {
   "cell_type": "code",
   "execution_count": null,
   "metadata": {
    "collapsed": false
   },
   "outputs": [],
   "source": [
    "# n=3\n",
    "# for col in range(n):\n",
    "#     data = caldf[[col, 'outcome']]\n",
    "\n",
    "#     # Group outcomes into bins of similar probability\n",
    "#     bins = np.linspace(0, 1, 21)\n",
    "#     cuts_bk = pd.cut(data[col], bins)\n",
    "#     binwidth = bins[1] - bins[0]\n",
    "\n",
    "#     # Compute empirical probability and count of examples in each bin \n",
    "#     cal_bk = data.groupby(cuts_bk).outcome.apply(lambda group : get_stats(group, col, n)).unstack()\n",
    "#     cal_bk['pmid'] = (bins[:-1] + bins[1:]) / 2\n",
    "#     cal_bk['sig'] = np.sqrt(cal_bk.pmid * (1 - cal_bk.pmid) / cal_bk['count'])\n",
    "    \n",
    "#     # Adjust col value\n",
    "#     if n==3:\n",
    "#         col=col-1\n",
    "        \n",
    "#     # The calibration plot\n",
    "#     plt.figure(figsize=(12,8))\n",
    "#     ax = plt.subplot2grid((3, 1), (0, 0), rowspan=2)\n",
    "#     p = plt.errorbar(cal_bk.pmid, cal_bk['mean'], cal_bk['sig'])\n",
    "#     plt.plot(cal_bk.pmid, cal_bk.pmid, linestyle='--', lw=1, color='k')\n",
    "#     plt.ylabel('Empirical P({0:d})'.format(col))\n",
    "\n",
    "#     # The distribution of the probabilities\n",
    "#     ax = plt.subplot2grid((3, 1), (2, 0), sharex=ax)  ### left=cal_bk.pmid - binwidth / 2\n",
    "#     plt.bar(left=cal_bk.pmid, height=cal_bk['count'], width=.95 * (bins[1] - bins[0]), fc=p[0].get_color())\n",
    "#     plt.xlabel('Predicted P({0:d})'.format(col))\n",
    "#     plt.ylabel(\"Number\")\n",
    "#     plt.show()"
   ]
  },
  {
   "cell_type": "markdown",
   "metadata": {},
   "source": [
    "### Looking at actual return of old and new predictions"
   ]
  },
  {
   "cell_type": "code",
   "execution_count": null,
   "metadata": {
    "collapsed": false
   },
   "outputs": [],
   "source": [
    "# # Compute odds setting reduction at 10%\n",
    "# probs = clf2.predict_proba(X2_train)\n",
    "# reduction = .06\n",
    "# for i in range(3):\n",
    "#     caldf['old'+str(i)] = 1+(1/abs(probs[:,i])-1)*(1-reduction)\n",
    "#     caldf['old'+str(i)] = round(caldf['old'+str(i)],2)\n",
    "#     caldf['new'+str(i)] = round(1+(1/abs(caldf[i])-1)*(1-reduction),2)\n",
    "# # Difference New-Old in payout, negative when New is better (as bookie)\n",
    "# for ind,row in caldf.iterrows():\n",
    "#     caldf.loc[ind,'diff']=10*(row['new'+str(int(row['outcome'])+1)] - row['old'+str(int(row['outcome'])+1)])\n",
    "# caldf.head(3)"
   ]
  },
  {
   "cell_type": "code",
   "execution_count": null,
   "metadata": {
    "collapsed": false
   },
   "outputs": [],
   "source": [
    "# %%time\n",
    "# # Compare actual return of model versus actual return of bookies on 10% of games. \n",
    "# # Must set min # of games and step size. Results are stored in gd dataframe\n",
    "# mingames=100\n",
    "# maxgames = int(caldf.shape[0]/1)  \n",
    "# step = 100\n",
    "# gameslst=range(mingames,maxgames,step)\n",
    "# gamesdict = {}\n",
    "# tmpdict={1:'2',0:'1',-1:'0'}\n",
    "# old_total = 0\n",
    "# new_total = 0\n",
    "# for games in gameslst:\n",
    "#     newdf = caldf[games-step:games]  \n",
    "#     newdf['outcome'] = newdf['outcome'].map(tmpdict)\n",
    "#     for ind,row in newdf.iterrows():\n",
    "#         old_total += 30 - 10*row['old'+row['outcome']]\n",
    "#         new_total += 30 - 10*row['new'+row['outcome']]\n",
    "#     gamesdict[games]=[10*games, round(new_total,2), round(100*(new_total/(10*games)),2), \\\n",
    "#                       round(old_total,2), round(100*(old_total/(10*games)),2)]\n",
    "# gd = pd.DataFrame.from_dict(gamesdict, orient='index')\n",
    "# gd.columns = ['Invested', 'New return', 'New ROI', 'Old return', 'Old ROI']"
   ]
  },
  {
   "cell_type": "code",
   "execution_count": null,
   "metadata": {
    "collapsed": false
   },
   "outputs": [],
   "source": [
    "# plt.figure(figsize=(16,6))\n",
    "# plt.scatter(list(gd.index),gd['New ROI'],c='blue', alpha=.5)  \n",
    "# plt.scatter(list(gd.index),gd['Old ROI'],c='red', alpha=.5) \n",
    "# for ind,row in (gd[-1:]).iterrows():\n",
    "#     plt.text(x=row['Invested']/10, y=row['New ROI'], s=str('({0:d},{1:.1f})'.format(int(row['Invested']/10),row['New ROI'])))\n",
    "#     plt.text(x=row['Invested']/10, y=row['Old ROI'], s=str('({0:d},{1:.1f})'.format(int(row['Invested']/10),row['Old ROI'])))\n",
    "# plt.title('Comparison of New vs Old ROI')\n",
    "# # plt.ylim((-80,-40))\n",
    "# plt.legend()\n",
    "# plt.show()"
   ]
  },
  {
   "cell_type": "markdown",
   "metadata": {
    "collapsed": true
   },
   "source": [
    "### PCA dimensionality reduction"
   ]
  },
  {
   "cell_type": "code",
   "execution_count": null,
   "metadata": {
    "collapsed": false
   },
   "outputs": [],
   "source": [
    "# Xcopy = X.loc[:,X.columns != 'outcome']\n",
    "# del Xcopy['league_id']\n",
    "\n",
    "# # print(Xcopy.columns.values)\n",
    "# #### highest correlated columns ####\n",
    "# # del Xcopy['diff']\n",
    "# # del Xcopy['penalties_away']\n",
    "# # del Xcopy['penalties_home']\n",
    "# # del Xcopy['ball_control_home']\n",
    "# # del Xcopy['ball_control_away']\n",
    "# # del Xcopy['potential_home']\n",
    "# # del Xcopy['potential_away']\n",
    "# # del Xcopy['gk_positioning_away']\n",
    "# # del Xcopy['gk_positioning_home']\n",
    "# # del Xcopy['interceptions_home']\n",
    "# # del Xcopy['interceptions_away']\n",
    "# # del Xcopy['standing_tackle_home']\n",
    "# # del Xcopy['standing_tackle_away']\n",
    "\n",
    "\n",
    "\n",
    "# # PREPROCESSING: Square all features\n",
    "# # Xcopy = X.iloc[:,2:20]\n",
    "# # del Xcopy['outcome']\n",
    "# # matrix = Xcopy.values\n",
    "# # poly = preprocessing.PolynomialFeatures(2)\n",
    "# # matrix = poly.fit_transform(matrix)\n",
    "\n",
    "# matrix = Xcopy.values\n",
    "# pca = PCA()\n",
    "# pca.fit(matrix)\n",
    "\n",
    "# n_comps = [2,3,4,5,6,7,8,9,10]\n",
    "# resultsPCA = {}\n",
    "# for n_comp in n_comps:\n",
    "#     print('Explained variance with {0:d} components: {1:0.2f}%'.format(n_comp,100*pca.explained_variance_ratio_[:n_comp].sum()))\n",
    "#     for i in range(n_comp):\n",
    "#         Xcopy['x_'+str(i)] = pca.fit_transform(matrix)[:,i]\n",
    "#     XLR = Xcopy.iloc[:,-n_comp:]\n",
    "# #     print('Max correlation before PCA:',((Xcopy.iloc[:,:-n_comp].corr()-np.eye(Xcopy.iloc[:,:-n_comp].corr().shape[0])).max(1)).max())\n",
    "# #     print('Max correlation after PCA:',((XLR.corr()-np.eye(XLR.corr().shape[0])).max(1)).max())\n",
    "#     # print((Xcopy.iloc[:,:-n_comp].corr()-np.eye(Xcopy.iloc[:,:-n_comp].corr().shape[0])).max(1)[:])\n",
    "\n",
    "#     XLR_scaled = preprocessing.scale(XLR.loc[:, XLR.columns != 'outcome'])\n",
    "#     rs = np.arange(3)+1\n",
    "#     resultsPCA[n_comp] = {}\n",
    "#     for r in rs:\n",
    "#         # Break data into training and test: use XLR or XLR_scaled \n",
    "#         PCAtrainX, PCAtestX, PCAtrainY, PCAtestY = train_test_split(XLR_scaled, X['outcome'], random_state=r)\n",
    "#         Cs =  [ 0.0033, 0.01, 0.033, 0.1]#, 0.33, 1, 3.3, 10, 33]\n",
    "\n",
    "#         PCAmodel = LogisticRegressionCV(Cs=Cs, cv=5, scoring='accuracy', solver='sag', n_jobs=-1, random_state=r, \\\n",
    "#                                         multi_class='multinomial')\n",
    "# #         PCAmodel = RandomForestClassifier(n_estimators=50, max_depth=5, max_features='sqrt')\n",
    "#     #     PCAmodel = GaussianNB()\n",
    "\n",
    "#         PCAmodel.fit(PCAtrainX,PCAtrainY)\n",
    "#         # Compute accuracy on train and test sets\n",
    "#         ytrain = PCAmodel.predict(PCAtrainX)\n",
    "#         ytest = PCAmodel.predict(PCAtestX)\n",
    "\n",
    "#         resultsPCA[n_comp][r] = {'Train score': 100*accuracy_score(ytrain,PCAtrainY), \\\n",
    "#                                  'Test score': 100*accuracy_score(ytest,PCAtestY)  , 'Best C': PCAmodel.C_[0]}\n",
    "\n",
    "# scoresPCA = pd.DataFrame(resultsPCA)"
   ]
  },
  {
   "cell_type": "code",
   "execution_count": null,
   "metadata": {
    "collapsed": false
   },
   "outputs": [],
   "source": [
    "# for n_comp in n_comps:\n",
    "#     for n in range(3):\n",
    "#         print(n_comp,scoresPCA[n_comp].values[n])"
   ]
  },
  {
   "cell_type": "markdown",
   "metadata": {},
   "source": [
    "### Replacing player id with actual name"
   ]
  },
  {
   "cell_type": "code",
   "execution_count": null,
   "metadata": {
    "collapsed": false
   },
   "outputs": [],
   "source": [
    "# # creating dictionary with player_api_id and player_name\n",
    "# player_dict = pd.Series(player_data['player_name'].values,index=player_data['player_api_id']).to_dict()\n",
    "\n",
    "# for i in range(11):\n",
    "#     # replacing player number id with player name\n",
    "#     home='home_player_'+str(i+1)\n",
    "#     away='away_player_'+str(i+1)\n",
    "#     match_data[home] = (match_data[home]).map(player_dict)  \n",
    "#     match_data[away] = (match_data[away]).map(player_dict) "
   ]
  },
  {
   "cell_type": "code",
   "execution_count": null,
   "metadata": {
    "collapsed": false
   },
   "outputs": [],
   "source": [
    "# # Check type of predictions\n",
    "# print('In the last run:')\n",
    "# print('There were {0:3d} Home Win predictions. {1:.2f}% were correct.'.format(np.unique(ytest, return_counts=True)[1][2], \\\n",
    "#                                                                    100*(ytest[ytest == 1] == ytestlr[ytest == 1]).mean()))\n",
    "# print('There were {0:3d} Draw predictions. {1:.2f}% were correct.'.format(np.unique(ytest, return_counts=True)[1][1], \\\n",
    "#                                                             100*(ytest[ytest == 0] == ytestlr[ytest == 0]).mean()))\n",
    "# print('There were {0:3d} Away Win predictions. {1:.2f}% were correct.'.format(np.unique(ytest, return_counts=True)[1][0], \\\n",
    "#                                                               100*(ytest[ytest == -1] == ytestlr[ytest == -1]).mean()))\n",
    "# # Identify highly correlated variables\n",
    "# (XX.corr()-np.eye(XX.corr().shape[0])).max(0)"
   ]
  }
 ],
 "metadata": {
  "kernelspec": {
   "display_name": "Python 3",
   "language": "python",
   "name": "python3"
  },
  "language_info": {
   "codemirror_mode": {
    "name": "ipython",
    "version": 3
   },
   "file_extension": ".py",
   "mimetype": "text/x-python",
   "name": "python",
   "nbconvert_exporter": "python",
   "pygments_lexer": "ipython3",
   "version": "3.6.0"
  }
 },
 "nbformat": 4,
 "nbformat_minor": 2
}
