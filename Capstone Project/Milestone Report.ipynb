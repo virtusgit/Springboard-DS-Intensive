{
 "cells": [
  {
   "cell_type": "markdown",
   "metadata": {},
   "source": [
    "## Importing packages and functions"
   ]
  },
  {
   "cell_type": "code",
   "execution_count": 1,
   "metadata": {
    "collapsed": true
   },
   "outputs": [],
   "source": [
    "import sqlite3\n",
    "import pandas as pd\n",
    "import numpy as np\n",
    "import scipy.stats as stats\n",
    "import matplotlib.pyplot as plt\n",
    "import matplotlib as mpl\n",
    "pd.set_option('display.width', 500)\n",
    "pd.set_option('display.max_columns', 100)\n",
    "pd.set_option('display.notebook_repr_html', True)\n",
    "import seaborn as sns\n",
    "sns.set_style(\"whitegrid\")\n",
    "from cycler import cycler"
   ]
  },
  {
   "cell_type": "markdown",
   "metadata": {},
   "source": [
    "## Importing Data"
   ]
  },
  {
   "cell_type": "code",
   "execution_count": 173,
   "metadata": {
    "collapsed": true
   },
   "outputs": [],
   "source": [
    "# database file can be downloaded at: https://www.kaggle.com/hugomathien/soccer\n",
    "# Connecting to database\n",
    "database = 'database.sqlite'\n",
    "conn = sqlite3.connect(database)\n",
    "\n",
    "#Fetching data tables\n",
    "player_data = pd.read_sql(\"SELECT * FROM Player;\", conn)\n",
    "player_stats_data = pd.read_sql(\"SELECT * FROM Player_Attributes;\", conn)\n",
    "team_data = pd.read_sql(\"SELECT * FROM Team;\", conn)\n",
    "match_data = pd.read_sql(\"SELECT * FROM Match;\", conn)\n",
    "conn.close()"
   ]
  },
  {
   "cell_type": "markdown",
   "metadata": {},
   "source": [
    "## Preparing match_data dataframe"
   ]
  },
  {
   "cell_type": "code",
   "execution_count": 174,
   "metadata": {
    "collapsed": true
   },
   "outputs": [],
   "source": [
    "# creating dictionary with team_api_id and team_long_name\n",
    "team_dict = pd.Series(team_data['team_long_name'].values,index=team_data['team_api_id']).to_dict()\n",
    "\n",
    "# replacing team number id with team full name\n",
    "match_data = match_data.replace({\"home_team_api_id\": team_dict});\n",
    "match_data = match_data.replace({\"away_team_api_id\": team_dict});\n",
    "\n",
    "# creating dictionary to replace league_id number with full name\n",
    "league_dict = {1:'Belgium Jupiler League',\n",
    "1729:'England Premier League',\n",
    "4769:'France Ligue 1',\n",
    "7809:'Germany 1. Bundesliga',\n",
    "10257:'Italy Serie A',\n",
    "13274:'Netherlands Eredivisie',\n",
    "15722:'Poland Ekstraklasa',\n",
    "17642:'Portugal Liga ZON Sagres',\n",
    "19694:'Scotland Premier League',\n",
    "21518:'Spain LIGA BBVA',\n",
    "24558:'Switzerland Super League'}\n",
    "match_data = match_data.replace({\"league_id\": league_dict});"
   ]
  },
  {
   "cell_type": "markdown",
   "metadata": {},
   "source": [
    "## Building betting dataframe to compute average odds"
   ]
  },
  {
   "cell_type": "code",
   "execution_count": 5,
   "metadata": {
    "collapsed": false
   },
   "outputs": [
    {
     "name": "stderr",
     "output_type": "stream",
     "text": [
      "C:\\Users\\petrelli\\AppData\\Local\\Continuum\\Anaconda3\\lib\\site-packages\\ipykernel\\__main__.py:12: SettingWithCopyWarning: \n",
      "A value is trying to be set on a copy of a slice from a DataFrame.\n",
      "Try using .loc[row_indexer,col_indexer] = value instead\n",
      "\n",
      "See the caveats in the documentation: http://pandas.pydata.org/pandas-docs/stable/indexing.html#indexing-view-versus-copy\n",
      "C:\\Users\\petrelli\\AppData\\Local\\Continuum\\Anaconda3\\lib\\site-packages\\ipykernel\\__main__.py:13: SettingWithCopyWarning: \n",
      "A value is trying to be set on a copy of a slice from a DataFrame.\n",
      "Try using .loc[row_indexer,col_indexer] = value instead\n",
      "\n",
      "See the caveats in the documentation: http://pandas.pydata.org/pandas-docs/stable/indexing.html#indexing-view-versus-copy\n",
      "C:\\Users\\petrelli\\AppData\\Local\\Continuum\\Anaconda3\\lib\\site-packages\\ipykernel\\__main__.py:14: SettingWithCopyWarning: \n",
      "A value is trying to be set on a copy of a slice from a DataFrame.\n",
      "Try using .loc[row_indexer,col_indexer] = value instead\n",
      "\n",
      "See the caveats in the documentation: http://pandas.pydata.org/pandas-docs/stable/indexing.html#indexing-view-versus-copy\n"
     ]
    },
    {
     "data": {
      "text/html": [
       "<div>\n",
       "<table border=\"1\" class=\"dataframe\">\n",
       "  <thead>\n",
       "    <tr style=\"text-align: right;\">\n",
       "      <th></th>\n",
       "      <th>league_id</th>\n",
       "      <th>season</th>\n",
       "      <th>stage</th>\n",
       "      <th>home_team_api_id</th>\n",
       "      <th>away_team_api_id</th>\n",
       "      <th>home_team_goal</th>\n",
       "      <th>away_team_goal</th>\n",
       "      <th>avgH</th>\n",
       "      <th>avgD</th>\n",
       "      <th>avgA</th>\n",
       "      <th>exp_outcome</th>\n",
       "      <th>outcome</th>\n",
       "    </tr>\n",
       "  </thead>\n",
       "  <tbody>\n",
       "    <tr>\n",
       "      <th>0</th>\n",
       "      <td>Belgium Jupiler League</td>\n",
       "      <td>2008/2009</td>\n",
       "      <td>1</td>\n",
       "      <td>KRC Genk</td>\n",
       "      <td>Beerschot AC</td>\n",
       "      <td>1</td>\n",
       "      <td>1</td>\n",
       "      <td>1.765556</td>\n",
       "      <td>3.322222</td>\n",
       "      <td>4.164444</td>\n",
       "      <td>Home</td>\n",
       "      <td>0</td>\n",
       "    </tr>\n",
       "    <tr>\n",
       "      <th>1</th>\n",
       "      <td>Belgium Jupiler League</td>\n",
       "      <td>2008/2009</td>\n",
       "      <td>1</td>\n",
       "      <td>SV Zulte-Waregem</td>\n",
       "      <td>Sporting Lokeren</td>\n",
       "      <td>0</td>\n",
       "      <td>0</td>\n",
       "      <td>1.898889</td>\n",
       "      <td>3.250000</td>\n",
       "      <td>3.616667</td>\n",
       "      <td>Home</td>\n",
       "      <td>0</td>\n",
       "    </tr>\n",
       "  </tbody>\n",
       "</table>\n",
       "</div>"
      ],
      "text/plain": [
       "                league_id     season  stage  home_team_api_id  away_team_api_id  home_team_goal  away_team_goal      avgH      avgD      avgA exp_outcome  outcome\n",
       "0  Belgium Jupiler League  2008/2009      1          KRC Genk      Beerschot AC               1               1  1.765556  3.322222  4.164444        Home        0\n",
       "1  Belgium Jupiler League  2008/2009      1  SV Zulte-Waregem  Sporting Lokeren               0               0  1.898889  3.250000  3.616667        Home        0"
      ]
     },
     "execution_count": 5,
     "metadata": {},
     "output_type": "execute_result"
    }
   ],
   "source": [
    "# selecting relevant columns from match_data\n",
    "selected=[2,3,4,7,8,9,10]\n",
    "# selecting betting odds columns for Home, Draw and Away\n",
    "for i in range(85,115,3):\n",
    "    selected.append(i)\n",
    "for i in range(86,115,3):\n",
    "    selected.append(i)\n",
    "for i in range(87,115,3):\n",
    "    selected.append(i)\n",
    "# creating df with selected columns\n",
    "betdf = match_data.iloc[:, selected ]\n",
    "betdf['avgH'] = betdf.iloc[:,7:17].mean(axis=1)\n",
    "betdf['avgD'] = betdf.iloc[:,17:27].mean(axis=1)\n",
    "betdf['avgA'] = betdf.iloc[:,27:37].mean(axis=1)\n",
    "# dropping individual agencies columns, keeping only averages\n",
    "betdf = betdf.drop(betdf.columns[7:37], axis=1) \n",
    "\n",
    "# create columns with expected result from average quotes and actual goal difference\n",
    "exp_dict = {'avgH': 'Home','avgD':'Draw','avgA':'Away'}\n",
    "# create expected outcome column by selecting lowest (average) odds \n",
    "betdf['exp_outcome'] = (betdf[betdf.columns[-3:]]).idxmin(axis=1)\n",
    "betdf = betdf.replace({'exp_outcome':exp_dict})\n",
    "# create actual 'outcome' column with values; 1 (Home win), 0 (Tie), -1 (Away win)\n",
    "betdf['outcome'] = np.sign(betdf['home_team_goal']-betdf['away_team_goal'])\n",
    "betdf.head(2)"
   ]
  },
  {
   "cell_type": "code",
   "execution_count": 6,
   "metadata": {
    "collapsed": false
   },
   "outputs": [
    {
     "data": {
      "text/html": [
       "<div>\n",
       "<table border=\"1\" class=\"dataframe\">\n",
       "  <thead>\n",
       "    <tr style=\"text-align: right;\">\n",
       "      <th></th>\n",
       "      <th>id</th>\n",
       "      <th>country_id</th>\n",
       "      <th>league_id</th>\n",
       "      <th>season</th>\n",
       "      <th>stage</th>\n",
       "      <th>date</th>\n",
       "      <th>match_api_id</th>\n",
       "      <th>home_team_api_id</th>\n",
       "      <th>away_team_api_id</th>\n",
       "      <th>home_team_goal</th>\n",
       "      <th>away_team_goal</th>\n",
       "      <th>home_player_X1</th>\n",
       "      <th>home_player_X2</th>\n",
       "      <th>home_player_X3</th>\n",
       "      <th>home_player_X4</th>\n",
       "      <th>home_player_X5</th>\n",
       "      <th>home_player_X6</th>\n",
       "      <th>home_player_X7</th>\n",
       "      <th>home_player_X8</th>\n",
       "      <th>home_player_X9</th>\n",
       "      <th>home_player_X10</th>\n",
       "      <th>home_player_X11</th>\n",
       "      <th>away_player_X1</th>\n",
       "      <th>away_player_X2</th>\n",
       "      <th>away_player_X3</th>\n",
       "      <th>away_player_X4</th>\n",
       "      <th>away_player_X5</th>\n",
       "      <th>away_player_X6</th>\n",
       "      <th>away_player_X7</th>\n",
       "      <th>away_player_X8</th>\n",
       "      <th>away_player_X9</th>\n",
       "      <th>away_player_X10</th>\n",
       "      <th>away_player_X11</th>\n",
       "      <th>home_player_Y1</th>\n",
       "      <th>home_player_Y2</th>\n",
       "      <th>home_player_Y3</th>\n",
       "      <th>home_player_Y4</th>\n",
       "      <th>home_player_Y5</th>\n",
       "      <th>home_player_Y6</th>\n",
       "      <th>home_player_Y7</th>\n",
       "      <th>home_player_Y8</th>\n",
       "      <th>home_player_Y9</th>\n",
       "      <th>home_player_Y10</th>\n",
       "      <th>home_player_Y11</th>\n",
       "      <th>away_player_Y1</th>\n",
       "      <th>away_player_Y2</th>\n",
       "      <th>away_player_Y3</th>\n",
       "      <th>away_player_Y4</th>\n",
       "      <th>away_player_Y5</th>\n",
       "      <th>away_player_Y6</th>\n",
       "      <th>...</th>\n",
       "      <th>home_player_11</th>\n",
       "      <th>away_player_1</th>\n",
       "      <th>away_player_2</th>\n",
       "      <th>away_player_3</th>\n",
       "      <th>away_player_4</th>\n",
       "      <th>away_player_5</th>\n",
       "      <th>away_player_6</th>\n",
       "      <th>away_player_7</th>\n",
       "      <th>away_player_8</th>\n",
       "      <th>away_player_9</th>\n",
       "      <th>away_player_10</th>\n",
       "      <th>away_player_11</th>\n",
       "      <th>goal</th>\n",
       "      <th>shoton</th>\n",
       "      <th>shotoff</th>\n",
       "      <th>foulcommit</th>\n",
       "      <th>card</th>\n",
       "      <th>cross</th>\n",
       "      <th>corner</th>\n",
       "      <th>possession</th>\n",
       "      <th>B365H</th>\n",
       "      <th>B365D</th>\n",
       "      <th>B365A</th>\n",
       "      <th>BWH</th>\n",
       "      <th>BWD</th>\n",
       "      <th>BWA</th>\n",
       "      <th>IWH</th>\n",
       "      <th>IWD</th>\n",
       "      <th>IWA</th>\n",
       "      <th>LBH</th>\n",
       "      <th>LBD</th>\n",
       "      <th>LBA</th>\n",
       "      <th>PSH</th>\n",
       "      <th>PSD</th>\n",
       "      <th>PSA</th>\n",
       "      <th>WHH</th>\n",
       "      <th>WHD</th>\n",
       "      <th>WHA</th>\n",
       "      <th>SJH</th>\n",
       "      <th>SJD</th>\n",
       "      <th>SJA</th>\n",
       "      <th>VCH</th>\n",
       "      <th>VCD</th>\n",
       "      <th>VCA</th>\n",
       "      <th>GBH</th>\n",
       "      <th>GBD</th>\n",
       "      <th>GBA</th>\n",
       "      <th>BSH</th>\n",
       "      <th>BSD</th>\n",
       "      <th>BSA</th>\n",
       "    </tr>\n",
       "  </thead>\n",
       "  <tbody>\n",
       "    <tr>\n",
       "      <th>10257</th>\n",
       "      <td>10258</td>\n",
       "      <td>10257</td>\n",
       "      <td>Italy Serie A</td>\n",
       "      <td>2008/2009</td>\n",
       "      <td>1</td>\n",
       "      <td>2008-08-31 00:00:00</td>\n",
       "      <td>537633</td>\n",
       "      <td>Cagliari</td>\n",
       "      <td>Lazio</td>\n",
       "      <td>1</td>\n",
       "      <td>4</td>\n",
       "      <td>1.0</td>\n",
       "      <td>2.0</td>\n",
       "      <td>4.0</td>\n",
       "      <td>6.0</td>\n",
       "      <td>8.0</td>\n",
       "      <td>3.0</td>\n",
       "      <td>5.0</td>\n",
       "      <td>7.0</td>\n",
       "      <td>4.0</td>\n",
       "      <td>6.0</td>\n",
       "      <td>5.0</td>\n",
       "      <td>1.0</td>\n",
       "      <td>2.0</td>\n",
       "      <td>4.0</td>\n",
       "      <td>6.0</td>\n",
       "      <td>8.0</td>\n",
       "      <td>2.0</td>\n",
       "      <td>4.0</td>\n",
       "      <td>6.0</td>\n",
       "      <td>8.0</td>\n",
       "      <td>4.0</td>\n",
       "      <td>6.0</td>\n",
       "      <td>1.0</td>\n",
       "      <td>3.0</td>\n",
       "      <td>3.0</td>\n",
       "      <td>3.0</td>\n",
       "      <td>3.0</td>\n",
       "      <td>6.0</td>\n",
       "      <td>6.0</td>\n",
       "      <td>6.0</td>\n",
       "      <td>8.0</td>\n",
       "      <td>8.0</td>\n",
       "      <td>11.0</td>\n",
       "      <td>1.0</td>\n",
       "      <td>3.0</td>\n",
       "      <td>3.0</td>\n",
       "      <td>3.0</td>\n",
       "      <td>3.0</td>\n",
       "      <td>7.0</td>\n",
       "      <td>...</td>\n",
       "      <td>96509.0</td>\n",
       "      <td>25735.0</td>\n",
       "      <td>30474.0</td>\n",
       "      <td>39731.0</td>\n",
       "      <td>30918.0</td>\n",
       "      <td>16351.0</td>\n",
       "      <td>39444.0</td>\n",
       "      <td>39334.0</td>\n",
       "      <td>41629.0</td>\n",
       "      <td>25594.0</td>\n",
       "      <td>25597.0</td>\n",
       "      <td>18506.0</td>\n",
       "      <td>&lt;goal&gt;&lt;value&gt;&lt;comment&gt;n&lt;/comment&gt;&lt;stats&gt;&lt;goals...</td>\n",
       "      <td>&lt;shoton /&gt;</td>\n",
       "      <td>&lt;shotoff /&gt;</td>\n",
       "      <td>&lt;foulcommit /&gt;</td>\n",
       "      <td>&lt;card&gt;&lt;value&gt;&lt;comment&gt;y&lt;/comment&gt;&lt;stats&gt;&lt;ycard...</td>\n",
       "      <td>&lt;cross /&gt;</td>\n",
       "      <td>&lt;corner /&gt;</td>\n",
       "      <td>&lt;possession /&gt;</td>\n",
       "      <td>3.0</td>\n",
       "      <td>3.0</td>\n",
       "      <td>2.5</td>\n",
       "      <td>2.6</td>\n",
       "      <td>2.95</td>\n",
       "      <td>2.65</td>\n",
       "      <td>2.6</td>\n",
       "      <td>2.9</td>\n",
       "      <td>2.7</td>\n",
       "      <td>2.7</td>\n",
       "      <td>2.75</td>\n",
       "      <td>2.6</td>\n",
       "      <td>NaN</td>\n",
       "      <td>NaN</td>\n",
       "      <td>NaN</td>\n",
       "      <td>2.62</td>\n",
       "      <td>2.90</td>\n",
       "      <td>2.5</td>\n",
       "      <td>2.8</td>\n",
       "      <td>3.0</td>\n",
       "      <td>2.7</td>\n",
       "      <td>3.0</td>\n",
       "      <td>2.8</td>\n",
       "      <td>2.4</td>\n",
       "      <td>2.7</td>\n",
       "      <td>3.0</td>\n",
       "      <td>2.6</td>\n",
       "      <td>2.5</td>\n",
       "      <td>3.0</td>\n",
       "      <td>2.62</td>\n",
       "    </tr>\n",
       "    <tr>\n",
       "      <th>10258</th>\n",
       "      <td>10259</td>\n",
       "      <td>10257</td>\n",
       "      <td>Italy Serie A</td>\n",
       "      <td>2008/2009</td>\n",
       "      <td>1</td>\n",
       "      <td>2008-08-31 00:00:00</td>\n",
       "      <td>537634</td>\n",
       "      <td>Catania</td>\n",
       "      <td>Genoa</td>\n",
       "      <td>1</td>\n",
       "      <td>0</td>\n",
       "      <td>1.0</td>\n",
       "      <td>2.0</td>\n",
       "      <td>4.0</td>\n",
       "      <td>6.0</td>\n",
       "      <td>8.0</td>\n",
       "      <td>4.0</td>\n",
       "      <td>6.0</td>\n",
       "      <td>3.0</td>\n",
       "      <td>5.0</td>\n",
       "      <td>7.0</td>\n",
       "      <td>5.0</td>\n",
       "      <td>1.0</td>\n",
       "      <td>2.0</td>\n",
       "      <td>4.0</td>\n",
       "      <td>6.0</td>\n",
       "      <td>8.0</td>\n",
       "      <td>3.0</td>\n",
       "      <td>5.0</td>\n",
       "      <td>7.0</td>\n",
       "      <td>3.0</td>\n",
       "      <td>5.0</td>\n",
       "      <td>7.0</td>\n",
       "      <td>1.0</td>\n",
       "      <td>3.0</td>\n",
       "      <td>3.0</td>\n",
       "      <td>3.0</td>\n",
       "      <td>3.0</td>\n",
       "      <td>6.0</td>\n",
       "      <td>6.0</td>\n",
       "      <td>8.0</td>\n",
       "      <td>8.0</td>\n",
       "      <td>8.0</td>\n",
       "      <td>11.0</td>\n",
       "      <td>1.0</td>\n",
       "      <td>3.0</td>\n",
       "      <td>3.0</td>\n",
       "      <td>3.0</td>\n",
       "      <td>3.0</td>\n",
       "      <td>7.0</td>\n",
       "      <td>...</td>\n",
       "      <td>37520.0</td>\n",
       "      <td>42702.0</td>\n",
       "      <td>27660.0</td>\n",
       "      <td>31214.0</td>\n",
       "      <td>41882.0</td>\n",
       "      <td>41760.0</td>\n",
       "      <td>38368.0</td>\n",
       "      <td>41757.0</td>\n",
       "      <td>27680.0</td>\n",
       "      <td>37767.0</td>\n",
       "      <td>NaN</td>\n",
       "      <td>39495.0</td>\n",
       "      <td>&lt;goal&gt;&lt;value&gt;&lt;comment&gt;n&lt;/comment&gt;&lt;stats&gt;&lt;goals...</td>\n",
       "      <td>&lt;shoton /&gt;</td>\n",
       "      <td>&lt;shotoff /&gt;</td>\n",
       "      <td>&lt;foulcommit /&gt;</td>\n",
       "      <td>&lt;card&gt;&lt;value&gt;&lt;comment&gt;y&lt;/comment&gt;&lt;stats&gt;&lt;ycard...</td>\n",
       "      <td>&lt;cross /&gt;</td>\n",
       "      <td>&lt;corner /&gt;</td>\n",
       "      <td>&lt;possession /&gt;</td>\n",
       "      <td>2.4</td>\n",
       "      <td>3.0</td>\n",
       "      <td>3.2</td>\n",
       "      <td>2.2</td>\n",
       "      <td>2.90</td>\n",
       "      <td>3.35</td>\n",
       "      <td>2.3</td>\n",
       "      <td>2.9</td>\n",
       "      <td>3.0</td>\n",
       "      <td>2.3</td>\n",
       "      <td>2.80</td>\n",
       "      <td>3.0</td>\n",
       "      <td>NaN</td>\n",
       "      <td>NaN</td>\n",
       "      <td>NaN</td>\n",
       "      <td>2.25</td>\n",
       "      <td>2.88</td>\n",
       "      <td>3.0</td>\n",
       "      <td>2.3</td>\n",
       "      <td>3.0</td>\n",
       "      <td>3.4</td>\n",
       "      <td>2.3</td>\n",
       "      <td>3.0</td>\n",
       "      <td>3.0</td>\n",
       "      <td>2.4</td>\n",
       "      <td>2.9</td>\n",
       "      <td>3.0</td>\n",
       "      <td>2.3</td>\n",
       "      <td>3.0</td>\n",
       "      <td>2.88</td>\n",
       "    </tr>\n",
       "  </tbody>\n",
       "</table>\n",
       "<p>2 rows × 115 columns</p>\n",
       "</div>"
      ],
      "text/plain": [
       "          id  country_id      league_id     season  stage                 date  match_api_id home_team_api_id away_team_api_id  home_team_goal  away_team_goal  home_player_X1  home_player_X2  home_player_X3  home_player_X4  home_player_X5  home_player_X6  home_player_X7  home_player_X8  home_player_X9  home_player_X10  home_player_X11  away_player_X1  away_player_X2  away_player_X3  away_player_X4  away_player_X5  away_player_X6  away_player_X7  away_player_X8  away_player_X9  away_player_X10  \\\n",
       "10257  10258       10257  Italy Serie A  2008/2009      1  2008-08-31 00:00:00        537633         Cagliari            Lazio               1               4             1.0             2.0             4.0             6.0             8.0             3.0             5.0             7.0             4.0              6.0              5.0             1.0             2.0             4.0             6.0             8.0             2.0             4.0             6.0             8.0              4.0   \n",
       "10258  10259       10257  Italy Serie A  2008/2009      1  2008-08-31 00:00:00        537634          Catania            Genoa               1               0             1.0             2.0             4.0             6.0             8.0             4.0             6.0             3.0             5.0              7.0              5.0             1.0             2.0             4.0             6.0             8.0             3.0             5.0             7.0             3.0              5.0   \n",
       "\n",
       "       away_player_X11  home_player_Y1  home_player_Y2  home_player_Y3  home_player_Y4  home_player_Y5  home_player_Y6  home_player_Y7  home_player_Y8  home_player_Y9  home_player_Y10  home_player_Y11  away_player_Y1  away_player_Y2  away_player_Y3  away_player_Y4  away_player_Y5  away_player_Y6  ...   home_player_11  away_player_1  away_player_2  away_player_3  away_player_4  away_player_5  away_player_6  away_player_7  away_player_8  away_player_9  away_player_10  away_player_11  \\\n",
       "10257              6.0             1.0             3.0             3.0             3.0             3.0             6.0             6.0             6.0             8.0              8.0             11.0             1.0             3.0             3.0             3.0             3.0             7.0  ...          96509.0        25735.0        30474.0        39731.0        30918.0        16351.0        39444.0        39334.0        41629.0        25594.0         25597.0         18506.0   \n",
       "10258              7.0             1.0             3.0             3.0             3.0             3.0             6.0             6.0             8.0             8.0              8.0             11.0             1.0             3.0             3.0             3.0             3.0             7.0  ...          37520.0        42702.0        27660.0        31214.0        41882.0        41760.0        38368.0        41757.0        27680.0        37767.0             NaN         39495.0   \n",
       "\n",
       "                                                    goal      shoton      shotoff      foulcommit                                               card      cross      corner      possession  B365H  B365D  B365A  BWH   BWD   BWA  IWH  IWD  IWA  LBH   LBD  LBA PSH PSD PSA   WHH   WHD  WHA  SJH  SJD  SJA  VCH  VCD  VCA  GBH  GBD  GBA  BSH  BSD   BSA  \n",
       "10257  <goal><value><comment>n</comment><stats><goals...  <shoton />  <shotoff />  <foulcommit />  <card><value><comment>y</comment><stats><ycard...  <cross />  <corner />  <possession />    3.0    3.0    2.5  2.6  2.95  2.65  2.6  2.9  2.7  2.7  2.75  2.6 NaN NaN NaN  2.62  2.90  2.5  2.8  3.0  2.7  3.0  2.8  2.4  2.7  3.0  2.6  2.5  3.0  2.62  \n",
       "10258  <goal><value><comment>n</comment><stats><goals...  <shoton />  <shotoff />  <foulcommit />  <card><value><comment>y</comment><stats><ycard...  <cross />  <corner />  <possession />    2.4    3.0    3.2  2.2  2.90  3.35  2.3  2.9  3.0  2.3  2.80  3.0 NaN NaN NaN  2.25  2.88  3.0  2.3  3.0  3.4  2.3  3.0  3.0  2.4  2.9  3.0  2.3  3.0  2.88  \n",
       "\n",
       "[2 rows x 115 columns]"
      ]
     },
     "execution_count": 6,
     "metadata": {},
     "output_type": "execute_result"
    }
   ],
   "source": [
    "match_data[10257:13274].head(2)"
   ]
  },
  {
   "cell_type": "markdown",
   "metadata": {},
   "source": [
    "## Replacing player id with actual name"
   ]
  },
  {
   "cell_type": "code",
   "execution_count": 7,
   "metadata": {
    "collapsed": true
   },
   "outputs": [],
   "source": [
    "# creating dictionary with player_api_id and player_name\n",
    "player_dict = pd.Series(player_data['player_name'].values,index=player_data['player_api_id']).to_dict()"
   ]
  },
  {
   "cell_type": "code",
   "execution_count": 8,
   "metadata": {
    "collapsed": false
   },
   "outputs": [],
   "source": [
    "for i in range(11):\n",
    "    # replacing player number id with player name\n",
    "    home='home_player_'+str(i+1)\n",
    "    away='away_player_'+str(i+1)\n",
    "    match_data[home] = (match_data[home]).map(player_dict)  \n",
    "    match_data[away] = (match_data[away]).map(player_dict) \n",
    "# Using replace is too slow, switched to map\n",
    "#     match_data = match_data.replace({home: player_dict});\n",
    "#     match_data = match_data.replace({away: player_dict});"
   ]
  },
  {
   "cell_type": "markdown",
   "metadata": {},
   "source": [
    "## Building X Dataframe for prediction"
   ]
  },
  {
   "cell_type": "code",
   "execution_count": 133,
   "metadata": {
    "collapsed": false
   },
   "outputs": [
    {
     "data": {
      "text/plain": [
       "['season', 'stage']"
      ]
     },
     "execution_count": 133,
     "metadata": {},
     "output_type": "execute_result"
    }
   ],
   "source": [
    "# creating list of selected columns from match_data\n",
    "selected = list(match_data.columns)[3:5]\n",
    "# selected.remove('country_id')\n",
    "# selected.remove('match_api_id')\n",
    "# for i in range(11):\n",
    "#     # appending names of selected columns for players\n",
    "#     home='home_player_'+str(i+1)\n",
    "#     away='away_player_'+str(i+1)\n",
    "#     selected.append(home)\n",
    "#     selected.append(away)\n",
    "selected"
   ]
  },
  {
   "cell_type": "code",
   "execution_count": 167,
   "metadata": {
    "collapsed": false
   },
   "outputs": [
    {
     "name": "stderr",
     "output_type": "stream",
     "text": [
      "C:\\Users\\petrelli\\AppData\\Local\\Continuum\\Anaconda3\\lib\\site-packages\\ipykernel\\__main__.py:5: SettingWithCopyWarning: \n",
      "A value is trying to be set on a copy of a slice from a DataFrame.\n",
      "Try using .loc[row_indexer,col_indexer] = value instead\n",
      "\n",
      "See the caveats in the documentation: http://pandas.pydata.org/pandas-docs/stable/indexing.html#indexing-view-versus-copy\n",
      "C:\\Users\\petrelli\\AppData\\Local\\Continuum\\Anaconda3\\lib\\site-packages\\ipykernel\\__main__.py:8: SettingWithCopyWarning: \n",
      "A value is trying to be set on a copy of a slice from a DataFrame.\n",
      "Try using .loc[row_indexer,col_indexer] = value instead\n",
      "\n",
      "See the caveats in the documentation: http://pandas.pydata.org/pandas-docs/stable/indexing.html#indexing-view-versus-copy\n",
      "C:\\Users\\petrelli\\AppData\\Local\\Continuum\\Anaconda3\\lib\\site-packages\\ipykernel\\__main__.py:9: SettingWithCopyWarning: \n",
      "A value is trying to be set on a copy of a slice from a DataFrame.\n",
      "Try using .loc[row_indexer,col_indexer] = value instead\n",
      "\n",
      "See the caveats in the documentation: http://pandas.pydata.org/pandas-docs/stable/indexing.html#indexing-view-versus-copy\n",
      "C:\\Users\\petrelli\\AppData\\Local\\Continuum\\Anaconda3\\lib\\site-packages\\ipykernel\\__main__.py:10: SettingWithCopyWarning: \n",
      "A value is trying to be set on a copy of a slice from a DataFrame.\n",
      "Try using .loc[row_indexer,col_indexer] = value instead\n",
      "\n",
      "See the caveats in the documentation: http://pandas.pydata.org/pandas-docs/stable/indexing.html#indexing-view-versus-copy\n",
      "C:\\Users\\petrelli\\AppData\\Local\\Continuum\\Anaconda3\\lib\\site-packages\\ipykernel\\__main__.py:11: SettingWithCopyWarning: \n",
      "A value is trying to be set on a copy of a slice from a DataFrame.\n",
      "Try using .loc[row_indexer,col_indexer] = value instead\n",
      "\n",
      "See the caveats in the documentation: http://pandas.pydata.org/pandas-docs/stable/indexing.html#indexing-view-versus-copy\n",
      "C:\\Users\\petrelli\\AppData\\Local\\Continuum\\Anaconda3\\lib\\site-packages\\ipykernel\\__main__.py:12: SettingWithCopyWarning: \n",
      "A value is trying to be set on a copy of a slice from a DataFrame\n",
      "\n",
      "See the caveats in the documentation: http://pandas.pydata.org/pandas-docs/stable/indexing.html#indexing-view-versus-copy\n"
     ]
    },
    {
     "data": {
      "text/html": [
       "<div>\n",
       "<table border=\"1\" class=\"dataframe\">\n",
       "  <thead>\n",
       "    <tr style=\"text-align: right;\">\n",
       "      <th></th>\n",
       "      <th>season</th>\n",
       "      <th>stage</th>\n",
       "      <th>avgH</th>\n",
       "      <th>avgD</th>\n",
       "      <th>avgA</th>\n",
       "      <th>outcome</th>\n",
       "    </tr>\n",
       "  </thead>\n",
       "  <tbody>\n",
       "    <tr>\n",
       "      <th>0</th>\n",
       "      <td>2008</td>\n",
       "      <td>1</td>\n",
       "      <td>1.765556</td>\n",
       "      <td>3.322222</td>\n",
       "      <td>4.164444</td>\n",
       "      <td>0</td>\n",
       "    </tr>\n",
       "    <tr>\n",
       "      <th>1</th>\n",
       "      <td>2008</td>\n",
       "      <td>1</td>\n",
       "      <td>1.898889</td>\n",
       "      <td>3.250000</td>\n",
       "      <td>3.616667</td>\n",
       "      <td>0</td>\n",
       "    </tr>\n",
       "    <tr>\n",
       "      <th>2</th>\n",
       "      <td>2008</td>\n",
       "      <td>1</td>\n",
       "      <td>2.462222</td>\n",
       "      <td>3.233333</td>\n",
       "      <td>2.544444</td>\n",
       "      <td>-1</td>\n",
       "    </tr>\n",
       "  </tbody>\n",
       "</table>\n",
       "</div>"
      ],
      "text/plain": [
       "   season  stage      avgH      avgD      avgA  outcome\n",
       "0    2008      1  1.765556  3.322222  4.164444        0\n",
       "1    2008      1  1.898889  3.250000  3.616667        0\n",
       "2    2008      1  2.462222  3.233333  2.544444       -1"
      ]
     },
     "execution_count": 167,
     "metadata": {},
     "output_type": "execute_result"
    }
   ],
   "source": [
    "# building X dataframe from selected columns\n",
    "X = match_data[selected]\n",
    "\n",
    "# modifying 'season' values into integers as in: '2008/2009' -> 2008\n",
    "X['season'] = (X['season'].str.slice(0,4)).astype(int)\n",
    "\n",
    "# using bookies averages for Home Win, Draw, and Away Win\n",
    "X['avgH'] = betdf['avgH']\n",
    "X['avgD'] = betdf['avgD']\n",
    "X['avgA'] = betdf['avgA']\n",
    "X['outcome'] = betdf['outcome']\n",
    "X.dropna(how='any', inplace=True)\n",
    "# del X['season']\n",
    "\n",
    "# FEATURE 1: introducing bookies difference = max()-min() among 'avg_' odds\n",
    "# avg_lst = ['avgH','avgD','avgA']\n",
    "# X['diff'] = X[avg_lst].max(axis=1) - X[avg_lst].min(axis=1)\n",
    "###  Basically no difference in prediction\n",
    "\n",
    "# FEATURE 2: introducing difference between avgH and avgA \n",
    "# X['diff'] = abs(X['avgH']-X['avgA'])\n",
    "###  Basically no difference in prediction\n",
    "\n",
    "X.head(3)"
   ]
  },
  {
   "cell_type": "code",
   "execution_count": 175,
   "metadata": {
    "collapsed": false
   },
   "outputs": [
    {
     "name": "stdout",
     "output_type": "stream",
     "text": [
      "             season         stage          avgH          avgD          avgA       outcome\n",
      "count  22597.000000  22597.000000  22597.000000  22597.000000  22597.000000  22597.000000\n",
      "mean    2011.496570     18.476169      2.585833      3.766131      4.525016      0.171217\n",
      "std        2.308663     10.508960      1.704600      1.044215      3.542810      0.847156\n",
      "min     2008.000000      1.000000      1.030000      1.330000      1.090000     -1.000000\n",
      "25%     2009.000000      9.000000      1.675000      3.246667      2.515556     -1.000000\n",
      "50%     2011.000000     18.000000      2.122222      3.401429      3.422222      0.000000\n",
      "75%     2014.000000     27.000000      2.750000      3.837143      5.080000      1.000000\n",
      "max     2015.000000     38.000000     29.142857     19.214286     41.666667      1.000000 \n",
      "\n",
      "<class 'pandas.core.frame.DataFrame'>\n",
      "Int64Index: 22597 entries, 0 to 24556\n",
      "Data columns (total 6 columns):\n",
      "season     22597 non-null int32\n",
      "stage      22597 non-null int64\n",
      "avgH       22597 non-null float64\n",
      "avgD       22597 non-null float64\n",
      "avgA       22597 non-null float64\n",
      "outcome    22597 non-null int64\n",
      "dtypes: float64(3), int32(1), int64(2)\n",
      "memory usage: 1.1 MB\n",
      "None\n"
     ]
    }
   ],
   "source": [
    "# checking that everything is correct\n",
    "print(X.describe(),'\\n')\n",
    "print(X.info())"
   ]
  },
  {
   "cell_type": "markdown",
   "metadata": {},
   "source": [
    "## Logistic Regression with Cross Validation"
   ]
  },
  {
   "cell_type": "code",
   "execution_count": 169,
   "metadata": {
    "collapsed": false
   },
   "outputs": [
    {
     "name": "stdout",
     "output_type": "stream",
     "text": [
      "Best parameter: [ 0.1  0.1  0.1]\n",
      "Scores: {-1: array([[ 0.52727809,  0.5260985 ,  0.5258036 ,  0.52639339,  0.52639339,\n",
      "         0.52639339,  0.52639339],\n",
      "       [ 0.53671483,  0.54054851,  0.5417281 ,  0.54143321,  0.54143321,\n",
      "         0.54143321,  0.54143321],\n",
      "       [ 0.53024491,  0.53732665,  0.53703157,  0.53732665,  0.53703157,\n",
      "         0.53732665,  0.53703157],\n",
      "       [ 0.52951594,  0.5298111 ,  0.53010626,  0.53010626,  0.53010626,\n",
      "         0.53010626,  0.53010626],\n",
      "       [ 0.53689492,  0.54309327,  0.54309327,  0.54309327,  0.54309327,\n",
      "         0.54309327,  0.54309327]]), 0: array([[ 0.52727809,  0.5260985 ,  0.5258036 ,  0.52639339,  0.52639339,\n",
      "         0.52639339,  0.52639339],\n",
      "       [ 0.53671483,  0.54054851,  0.5417281 ,  0.54143321,  0.54143321,\n",
      "         0.54143321,  0.54143321],\n",
      "       [ 0.53024491,  0.53732665,  0.53703157,  0.53732665,  0.53703157,\n",
      "         0.53732665,  0.53703157],\n",
      "       [ 0.52951594,  0.5298111 ,  0.53010626,  0.53010626,  0.53010626,\n",
      "         0.53010626,  0.53010626],\n",
      "       [ 0.53689492,  0.54309327,  0.54309327,  0.54309327,  0.54309327,\n",
      "         0.54309327,  0.54309327]]), 1: array([[ 0.52727809,  0.5260985 ,  0.5258036 ,  0.52639339,  0.52639339,\n",
      "         0.52639339,  0.52639339],\n",
      "       [ 0.53671483,  0.54054851,  0.5417281 ,  0.54143321,  0.54143321,\n",
      "         0.54143321,  0.54143321],\n",
      "       [ 0.53024491,  0.53732665,  0.53703157,  0.53732665,  0.53703157,\n",
      "         0.53732665,  0.53703157],\n",
      "       [ 0.52951594,  0.5298111 ,  0.53010626,  0.53010626,  0.53010626,\n",
      "         0.53010626,  0.53010626],\n",
      "       [ 0.53689492,  0.54309327,  0.54309327,  0.54309327,  0.54309327,\n",
      "         0.54309327,  0.54309327]])}\n"
     ]
    }
   ],
   "source": [
    "from sklearn.linear_model import LogisticRegressionCV, LogisticRegression\n",
    "from sklearn.model_selection import GridSearchCV, train_test_split\n",
    "from sklearn.metrics import accuracy_score\n",
    "\n",
    "# breaking data into training and test\n",
    "Xlr, Xtestlr, ylr, ytestlr = train_test_split(X.loc[:, X.columns != 'outcome'], X['outcome'], random_state=13)\n",
    "\n",
    "# list of parameters\n",
    "# parameters = {'C' : [0.0001, 0.001, 0.01, 0.1, 1, 10, 100, 1000]}\n",
    "Cs =  [0.0001, 0.001, 0.01, 0.1, 1, 10, 100]\n",
    "\n",
    "# calling GridSearchCV for 'C' parameter\n",
    "model = LogisticRegressionCV(Cs=Cs, cv=5, scoring='accuracy', random_state=3, multi_class='multinomial')\n",
    "\n",
    "# fitting the model\n",
    "model.fit(Xlr,ylr)\n",
    "\n",
    "# printing some results\n",
    "print('Best parameter:',model.C_)\n",
    "print('Scores:',model.scores_)"
   ]
  },
  {
   "cell_type": "code",
   "execution_count": 170,
   "metadata": {
    "collapsed": false
   },
   "outputs": [
    {
     "name": "stdout",
     "output_type": "stream",
     "text": [
      "Training set score: 53.59%\n",
      "Test set score: 51.49%\n"
     ]
    }
   ],
   "source": [
    "# Using best parameter, fitting on full training\n",
    "best_model = LogisticRegression(C=model.C_[0])\n",
    "best_model.fit(Xlr,ylr)\n",
    "\n",
    "# computing accuracy on train and test sets\n",
    "ytrain = best_model.predict(Xlr)\n",
    "ytest = best_model.predict(Xtestlr)\n",
    "\n",
    "print('Training set score: {0:.2f}%'.format(100*accuracy_score(ytrain,ylr)))\n",
    "print('Test set score: {0:.2f}%'.format(100*accuracy_score(ytest,ytestlr)))"
   ]
  },
  {
   "cell_type": "markdown",
   "metadata": {},
   "source": [
    "## Looking into predictions types and accuracy"
   ]
  },
  {
   "cell_type": "code",
   "execution_count": 171,
   "metadata": {
    "collapsed": false
   },
   "outputs": [
    {
     "name": "stdout",
     "output_type": "stream",
     "text": [
      "Label = 1 is correct for 45.91% of the games and is predicted 75.68% of the times.\n",
      "Label = 0 is correct for 25.30% of the games and is predicted 0.00% of the times.\n",
      "Label = -1 is correct for 28.79% of the games and is predicted 24.32% of the times.\n"
     ]
    }
   ],
   "source": [
    "# checking what kind of predictions are made in test set\n",
    "labels = [1,0,-1]\n",
    "for label in labels:\n",
    "    Xcheck = X[X['outcome']==label]\n",
    "    pred = ytest[ytest==label].shape[0] # ytrain[ytrain==label].shape[0]+\n",
    "    print('Label =',label, 'is correct for {0:.2f}% of the games'.format(100*Xcheck.shape[0]/X.shape[0]), \n",
    "          'and is predicted {0:.2f}% of the times.'.format(100*pred/Xtestlr.shape[0]))"
   ]
  },
  {
   "cell_type": "code",
   "execution_count": 172,
   "metadata": {
    "collapsed": false
   },
   "outputs": [
    {
     "name": "stdout",
     "output_type": "stream",
     "text": [
      "Label = 1 predictions are correct 52.13% of the times\n",
      "Label = 0 predictions are correct nan% of the times\n",
      "Label = -1 predictions are correct 49.49% of the times\n"
     ]
    },
    {
     "name": "stderr",
     "output_type": "stream",
     "text": [
      "C:\\Users\\petrelli\\AppData\\Local\\Continuum\\Anaconda3\\lib\\site-packages\\ipykernel\\__main__.py:3: RuntimeWarning: invalid value encountered in longlong_scalars\n",
      "  app.launch_new_instance()\n"
     ]
    }
   ],
   "source": [
    "# checking how many predictions are correct by predicted outcome in test set\n",
    "for label in labels:\n",
    "    pred = ((ytestlr==ytest) & (ytest == label)).sum() / (ytest == label).sum()\n",
    "    print('Label =',label, 'predictions are correct {0:.2f}% of the times'.format(100*pred)) "
   ]
  },
  {
   "cell_type": "code",
   "execution_count": null,
   "metadata": {
    "collapsed": true
   },
   "outputs": [],
   "source": []
  },
  {
   "cell_type": "code",
   "execution_count": null,
   "metadata": {
    "collapsed": true
   },
   "outputs": [],
   "source": []
  },
  {
   "cell_type": "code",
   "execution_count": null,
   "metadata": {
    "collapsed": true
   },
   "outputs": [],
   "source": []
  },
  {
   "cell_type": "code",
   "execution_count": null,
   "metadata": {
    "collapsed": true
   },
   "outputs": [],
   "source": []
  }
 ],
 "metadata": {
  "kernelspec": {
   "display_name": "Python 3",
   "language": "python",
   "name": "python3"
  },
  "language_info": {
   "codemirror_mode": {
    "name": "ipython",
    "version": 3
   },
   "file_extension": ".py",
   "mimetype": "text/x-python",
   "name": "python",
   "nbconvert_exporter": "python",
   "pygments_lexer": "ipython3",
   "version": "3.6.0"
  }
 },
 "nbformat": 4,
 "nbformat_minor": 2
}
