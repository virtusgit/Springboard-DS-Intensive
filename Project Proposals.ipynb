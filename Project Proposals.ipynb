{
 "cells": [
  {
   "cell_type": "markdown",
   "metadata": {},
   "source": [
    "## Capstone Project Ideas\n",
    "\n",
    "### 1. Italian Soccer League Predictor\n",
    "\n",
    "Use the Soccer Database at https://www.kaggle.com/hugomathien/soccer to predict the result of the next soccer game for the home team (as win/tie/loss). The database has a lot of data about each league game played starting in 2008 through 2015. It reports score, date, team involved, team rosters, players who scored, type of goal, and many others.\n",
    "\n",
    "I would feed the algorithm some of the most significant variables given, like recent results and expected roster,  Other variables could be created; for example one to tell whether a team is hot or cold, as determined by the average points gained in the last few matches.\n",
    "\n",
    "Interested clients could be any sport betting agency that is trying to assign odds on games. I would probably use a classification algorithm trained with previous year(s) data and current season matches up to the one to be predicted.\n",
    "\n",
    "### 2. Medicare payments for top 100 diagnosis\n",
    "\n",
    "The database at https://catalog.data.gov/dataset/inpatient-prospective-payment-system-ipps-provider-summary-for-the-top-100-diagnosis-relat contains data of payments made by medicare for the 100 top diagnosis, for thousands of hospitals around the country. \n",
    "\n",
    "My goal is to detect trends and patterns in the average cost for these diagnosis, in relation to the living expenses of the area in which the hospital is. I would study whether there is any correlation between, for example: average cost of hospital stay and median household income or median value of owner oocupied housing from census data. In order to do this I would combine the medicare data with economic data from the last census. My researchhypothesis is that such variables should be positively correlated as the cost of doing business is probably higher in areas where cost of living is higher.\n",
    "\n",
    "Medicare could be a possible client as they could determine for example that certain costs are not warranted by living costs at determined hospitals. Such analysis might detect siatuation where medicare might want to investigate reasons for costs that are much higher than what living cost would dictate. \n",
    "\n",
    "### 3. Are taxes fair in the USA?\n",
    "\n",
    "The big goal of this project would be to try to determine whether taxes are fair in the USA, by studying data from tax returns for the year 2014, as provided by the IRS at https://www.irs.gov/uac/soi-tax-stats-individual-income-tax-statistics-2014-zip-code-data-soi. Depending on how much the data collection could be automated given their files I might restrict such study to a single state, for example Maryland.\n",
    "\n",
    "Data is subdivided into income groups and aggregated totals are given for any zipcode. Warren Buffett famously claimed that his tax rate was smaller than that of his secretary, does the same situation apply for rich and poor household? Combining the income data provided with the actual deductions, credits, and taxes paid I could determine the effective tax rate for the given income groups. The goal would be to establish whether there is a positive correlation between taxes paid and income before taxes.\n",
    "\n",
    "A possible client could be the IRS, or better the US Goverment, as it prepares to modify income taxes' brackets and rates. "
   ]
  },
  {
   "cell_type": "code",
   "execution_count": null,
   "metadata": {
    "collapsed": true
   },
   "outputs": [],
   "source": []
  }
 ],
 "metadata": {
  "kernelspec": {
   "display_name": "Python 3",
   "language": "python",
   "name": "python3"
  },
  "language_info": {
   "codemirror_mode": {
    "name": "ipython",
    "version": 3
   },
   "file_extension": ".py",
   "mimetype": "text/x-python",
   "name": "python",
   "nbconvert_exporter": "python",
   "pygments_lexer": "ipython3",
   "version": "3.6.0"
  }
 },
 "nbformat": 4,
 "nbformat_minor": 2
}
